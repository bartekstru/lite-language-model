{
 "cells": [
  {
   "cell_type": "code",
   "execution_count": 108,
   "metadata": {},
   "outputs": [],
   "source": [
    "import torch\n",
    "import torch.nn.functional as F\n",
    "import matplotlib.pyplot as plt\n",
    "import random\n",
    "import math\n",
    "%matplotlib inline"
   ]
  },
  {
   "cell_type": "code",
   "execution_count": 109,
   "metadata": {},
   "outputs": [
    {
     "name": "stdout",
     "output_type": "stream",
     "text": [
      "Using GPU: NVIDIA GeForce RTX 3080 Laptop GPU\n"
     ]
    }
   ],
   "source": [
    "# Check if CUDA is available\n",
    "if torch.cuda.is_available():\n",
    "    device = torch.device(\"cuda\")\n",
    "    print(\"Using GPU:\", torch.cuda.get_device_name(0))\n",
    "else:\n",
    "    device = torch.device(\"cpu\")\n",
    "    print(\"CUDA is not available. Using CPU.\")"
   ]
  },
  {
   "cell_type": "code",
   "execution_count": 110,
   "metadata": {},
   "outputs": [],
   "source": [
    "words = open('names.txt', 'r').read().splitlines()"
   ]
  },
  {
   "cell_type": "code",
   "execution_count": 111,
   "metadata": {},
   "outputs": [],
   "source": [
    "chars = ['.'] + sorted(list(set(''.join(words))))\n",
    "encode = lambda c: chars.index(c)\n",
    "decode = lambda i: chars[i]"
   ]
  },
  {
   "cell_type": "code",
   "execution_count": 112,
   "metadata": {},
   "outputs": [],
   "source": [
    "block_size = 4\n",
    "embedding_dim = 16\n",
    "vocab_size = len(chars)\n",
    "hidden_dim = 256\n",
    "batch_size = 64"
   ]
  },
  {
   "cell_type": "code",
   "execution_count": 113,
   "metadata": {},
   "outputs": [
    {
     "name": "stdout",
     "output_type": "stream",
     "text": [
      "torch.Size([182625, 4]) torch.Size([182625])\n",
      "torch.Size([22655, 4]) torch.Size([22655])\n",
      "torch.Size([22866, 4]) torch.Size([22866])\n"
     ]
    }
   ],
   "source": [
    "def bulid_dataset(words):\n",
    "    X, Y = [], []\n",
    "    for w in words:\n",
    "        context = [0] * block_size\n",
    "        for c in w + '.':\n",
    "            ix = encode(c)\n",
    "            X.append(context)\n",
    "            Y.append(ix)\n",
    "            context = context[1:] + [ix]\n",
    "\n",
    "    X = torch.tensor(X)\n",
    "    Y = torch.tensor(Y)\n",
    "    print(X.shape, Y.shape)\n",
    "    return X, Y\n",
    "\n",
    "random.seed(42)\n",
    "random.shuffle(words)\n",
    "n1 = int(0.8 * len(words))\n",
    "n2 = int(0.9 * len(words))\n",
    "\n",
    "Xtr, Ytr = bulid_dataset(words[:n1])\n",
    "Xval, Yval = bulid_dataset(words[n1:n2])\n",
    "Xte, Yte = bulid_dataset(words[n2:])"
   ]
  },
  {
   "cell_type": "code",
   "execution_count": 114,
   "metadata": {},
   "outputs": [],
   "source": [
    "g = torch.Generator().manual_seed(2147483647)\n",
    "C = torch.randn((vocab_size, embedding_dim), generator=g) # two dimensional embedding\n",
    "W1 = torch.randn((embedding_dim*block_size, hidden_dim), generator=g)\n",
    "b1 = torch.randn((hidden_dim), generator=g)\n",
    "W2 = torch.randn((hidden_dim, hidden_dim), generator=g)\n",
    "b2 = torch.randn((hidden_dim), generator=g)\n",
    "W3 = torch.randn((hidden_dim, vocab_size), generator=g)\n",
    "b3 = torch.randn((vocab_size), generator=g)\n",
    "parameters = [C, W1, b1, W2, b2, W3, b3]\n",
    "for p in parameters:\n",
    "    p.requires_grad = True"
   ]
  },
  {
   "cell_type": "code",
   "execution_count": 115,
   "metadata": {},
   "outputs": [
    {
     "name": "stdout",
     "output_type": "stream",
     "text": [
      "89803 parameters\n"
     ]
    }
   ],
   "source": [
    "print(f\"{sum(p.nelement() for p in parameters)} parameters\")"
   ]
  },
  {
   "cell_type": "code",
   "execution_count": 116,
   "metadata": {},
   "outputs": [],
   "source": [
    "lre = torch.linspace(-3, 0, 1000)\n",
    "lrs = 10 ** lre"
   ]
  },
  {
   "cell_type": "code",
   "execution_count": 117,
   "metadata": {},
   "outputs": [],
   "source": [
    "lossei = []\n",
    "stepi = []\n",
    "lri = []"
   ]
  },
  {
   "cell_type": "code",
   "execution_count": 118,
   "metadata": {},
   "outputs": [],
   "source": [
    "for i in range(200000):\n",
    "    # make a mini batch\n",
    "    ix = torch.randint(0, Xtr.shape[0], (batch_size,))\n",
    "    Xb, Yb = Xtr[ix], Ytr[ix]\n",
    "\n",
    "    # forward pass\n",
    "    emb = C[Xb]\n",
    "    h1 = torch.tanh(emb.view(emb.shape[0], -1) @ W1 + b1)\n",
    "    h2 = torch.tanh(h1 @ W2 + b2)\n",
    "    logits = h2 @ W3 + b3 # (32,100) @ (100, 27) + (27) -> (32, 27)\n",
    "    loss = F.cross_entropy(logits, Yb)\n",
    "\n",
    "    # backward pass\n",
    "    for p in parameters:\n",
    "        p.grad = None\n",
    "        \n",
    "    loss.backward()\n",
    "    lossei.append(loss.item())\n",
    "    stepi.append(i)\n",
    "\n",
    "    # update\n",
    "    # Implement learning rate decay using a cosine annealing schedule\n",
    "    max_iterations = 200000  # Total number of iterations\n",
    "    initial_lr = 0.1\n",
    "    min_lr = 0.001\n",
    "    lr = min_lr + 0.5 * (initial_lr - min_lr) * (1 + math.cos(math.pi * i / max_iterations))\n",
    "    for p in parameters:\n",
    "        p.data -= lr * p.grad\n",
    "    \n",
    "    lossei.append(loss.log10().item())\n",
    "    stepi.append(i)\n",
    "    lri.append(lr)\n"
   ]
  },
  {
   "cell_type": "code",
   "execution_count": 124,
   "metadata": {},
   "outputs": [
    {
     "data": {
      "image/png": "[encoded data removed]",
      "text/plain": [
       "<Figure size 640x480 with 1 Axes>"
      ]
     },
     "metadata": {},
     "output_type": "display_data"
    }
   ],
   "source": [
    "plt.plot(stepi, lossei)\n",
    "plt.show()"
   ]
  },
  {
   "cell_type": "code",
   "execution_count": 125,
   "metadata": {},
   "outputs": [
    {
     "name": "stdout",
     "output_type": "stream",
     "text": [
      "2.225604772567749\n"
     ]
    }
   ],
   "source": [
    "print(loss.item())\n"
   ]
  },
  {
   "cell_type": "code",
   "execution_count": 128,
   "metadata": {},
   "outputs": [
    {
     "name": "stdout",
     "output_type": "stream",
     "text": [
      "2.225604772567749\n"
     ]
    }
   ],
   "source": [
    "emb = C[Xval]\n",
    "h1 = torch.tanh(emb.view(emb.shape[0], -1) @ W1 + b1)\n",
    "h2 = torch.tanh(h1 @ W2 + b2)\n",
    "logits = h2 @ W3 + b3\n",
    "loss = F.cross_entropy(logits, Yval)\n",
    "print(loss.item())\n"
   ]
  },
  {
   "cell_type": "code",
   "execution_count": 129,
   "metadata": {},
   "outputs": [
    {
     "data": {
      "image/png": "[encoded data removed]",
      "text/plain": [
       "<Figure size 800x800 with 1 Axes>"
      ]
     },
     "metadata": {},
     "output_type": "display_data"
    }
   ],
   "source": [
    "plt.figure(figsize=(8, 8))\n",
    "plt.scatter(C[:, 0].data, C[:, 1].data, s=200)\n",
    "for i in range(C.shape[0]):\n",
    "    plt.text(C[i, 0].item(), C[i, 1].item(), decode(i), ha='center', va='center', color='white')\n",
    "plt.grid(\"minor\")"
   ]
  },
  {
   "cell_type": "code",
   "execution_count": 131,
   "metadata": {},
   "outputs": [
    {
     "name": "stdout",
     "output_type": "stream",
     "text": [
      "arnha.\n",
      "wenxa.\n",
      "adimajia.\n",
      "nal.\n",
      "jaolomol.\n",
      "tavasnnerhiani.\n",
      "dack.\n",
      "mipai.\n",
      "ayaie.\n",
      "leisa.\n",
      "maigh.\n",
      "mahari.\n",
      "ezon.\n",
      "zilenia.\n",
      "soren.\n",
      "badier.\n",
      "bonl.\n",
      "cenlea.\n",
      "wehton.\n",
      "izariothan.\n"
     ]
    }
   ],
   "source": [
    "for i in range(20):\n",
    "    context = [0] * block_size\n",
    "    out = []\n",
    "    while True:\n",
    "        emb = C[torch.tensor([context])]\n",
    "        h1 = torch.tanh(emb.view(1, -1) @ W1 + b1)\n",
    "        h2 = torch.tanh(h1 @ W2 + b2)\n",
    "        logits = h2 @ W3 + b3\n",
    "        probs = F.softmax(logits, dim=1)\n",
    "        ix = torch.multinomial(probs, num_samples=1, generator=g).item()\n",
    "        context = context[1:] + [ix]\n",
    "        out.append(decode(ix))\n",
    "        if ix == 0:\n",
    "            break\n",
    "    print(''.join(out))\n",
    "\n"
   ]
  },
  {
   "cell_type": "markdown",
   "metadata": {},
   "source": []
  }
 ],
 "metadata": {
  "kernelspec": {
   "display_name": ".venv",
   "language": "python",
   "name": "python3"
  },
  "language_info": {
   "codemirror_mode": {
    "name": "ipython",
    "version": 3
   },
   "file_extension": ".py",
   "mimetype": "text/x-python",
   "name": "python",
   "nbconvert_exporter": "python",
   "pygments_lexer": "ipython3",
   "version": "3.11.9"
  }
 },
 "nbformat": 4,
 "nbformat_minor": 2
}
