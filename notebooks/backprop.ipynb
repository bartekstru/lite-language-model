{
 "cells": [
  {
   "cell_type": "code",
   "execution_count": 11,
   "metadata": {},
   "outputs": [],
   "source": [
    "import torch\n",
    "import torch.nn.functional as F\n",
    "import matplotlib.pyplot as plt\n",
    "import random\n",
    "import math\n",
    "%matplotlib inline"
   ]
  },
  {
   "cell_type": "code",
   "execution_count": 12,
   "metadata": {},
   "outputs": [],
   "source": [
    "g = torch.Generator().manual_seed(2147483647)"
   ]
  },
  {
   "cell_type": "code",
   "execution_count": 13,
   "metadata": {},
   "outputs": [],
   "source": [
    "words = open('names.txt', 'r').read().splitlines()"
   ]
  },
  {
   "cell_type": "code",
   "execution_count": 14,
   "metadata": {},
   "outputs": [],
   "source": [
    "chars = ['.'] + sorted(list(set(''.join(words))))\n",
    "encode = lambda c: chars.index(c)\n",
    "decode = lambda i: chars[i]"
   ]
  },
  {
   "cell_type": "code",
   "execution_count": 15,
   "metadata": {},
   "outputs": [],
   "source": [
    "block_size = 3\n",
    "vocab_size = len(chars)"
   ]
  },
  {
   "cell_type": "code",
   "execution_count": 16,
   "metadata": {},
   "outputs": [
    {
     "name": "stdout",
     "output_type": "stream",
     "text": [
      "torch.Size([182625, 3]) torch.Size([182625])\n",
      "torch.Size([22655, 3]) torch.Size([22655])\n",
      "torch.Size([22866, 3]) torch.Size([22866])\n"
     ]
    }
   ],
   "source": [
    "def build_dataset(words):\n",
    "    X, Y = [], []\n",
    "    for w in words:\n",
    "        context = [0] * block_size\n",
    "        for c in w + '.':\n",
    "            ix = encode(c)\n",
    "            X.append(context)\n",
    "            Y.append(ix)\n",
    "            context = context[1:] + [ix]\n",
    "\n",
    "    X = torch.tensor(X)\n",
    "    Y = torch.tensor(Y)\n",
    "    print(X.shape, Y.shape)\n",
    "    return X, Y\n",
    "\n",
    "random.seed(42)\n",
    "random.shuffle(words)\n",
    "n1 = int(0.8 * len(words))\n",
    "n2 = int(0.9 * len(words))\n",
    "\n",
    "Xtr, Ytr = build_dataset(words[:n1])\n",
    "Xval, Yval = build_dataset(words[n1:n2])\n",
    "Xte, Yte = build_dataset(words[n2:])"
   ]
  },
  {
   "cell_type": "code",
   "execution_count": 17,
   "metadata": {},
   "outputs": [],
   "source": [
    "def cmp(s, dt, t):\n",
    "    exact = torch.all(dt == t.grad).item()\n",
    "    approx = torch.allclose(dt, t.grad)\n",
    "    max_diff = (torch.abs(dt - t.grad).abs().max().item())\n",
    "    print(f'{s:15s} exact: {str(exact):5s} approx: {str(approx):5s} max_diff: {max_diff}')\n"
   ]
  },
  {
   "cell_type": "code",
   "execution_count": 18,
   "metadata": {},
   "outputs": [
    {
     "name": "stdout",
     "output_type": "stream",
     "text": [
      "4137\n"
     ]
    }
   ],
   "source": [
    "n_embd = 10 # the dimensionality of the character embedding vectors\n",
    "n_hidden = 64 # the number of neurons in the hidden layer of the MLP\n",
    "\n",
    "g = torch.Generator().manual_seed(2147483647) # for reproducibility\n",
    "C  = torch.randn((vocab_size, n_embd),            generator=g)\n",
    "# Layer 1\n",
    "W1 = torch.randn((n_embd * block_size, n_hidden), generator=g) * (5/3)/((n_embd * block_size)**0.5)\n",
    "b1 = torch.randn(n_hidden,                        generator=g) * 0.1 # using b1 just for fun, it's useless because of BN\n",
    "# Layer 2\n",
    "W2 = torch.randn((n_hidden, vocab_size),          generator=g) * 0.1\n",
    "b2 = torch.randn(vocab_size,                      generator=g) * 0.1\n",
    "# BatchNorm parameters\n",
    "bngain = torch.randn((1, n_hidden))*0.1 + 1.0\n",
    "bnbias = torch.randn((1, n_hidden))*0.1\n",
    "\n",
    "# Note: I am initializating many of these parameters in non-standard ways\n",
    "# because sometimes initializating with e.g. all zeros could mask an incorrect\n",
    "# implementation of the backward pass. Because when everything is zero the\n",
    "# expression of gradient is simplified.\n",
    "\n",
    "parameters = [C, W1, b1, W2, b2, bngain, bnbias]\n",
    "print(sum(p.nelement() for p in parameters)) # number of parameters in total\n",
    "for p in parameters:\n",
    "  p.requires_grad = True"
   ]
  },
  {
   "cell_type": "code",
   "execution_count": 19,
   "metadata": {},
   "outputs": [
    {
     "name": "stdout",
     "output_type": "stream",
     "text": [
      "torch.Size([32, 3]) torch.Size([32])\n"
     ]
    }
   ],
   "source": [
    "batch_size = 32\n",
    "n = batch_size\n",
    "ix = torch.randint(0, Xtr.shape[0], (n,), generator=g)\n",
    "Xb, Yb = Xtr[ix], Ytr[ix]\n",
    "\n",
    "print(Xb.shape, Yb.shape)"
   ]
  },
  {
   "cell_type": "code",
   "execution_count": 83,
   "metadata": {},
   "outputs": [
    {
     "data": {
      "text/plain": [
       "tensor(2.1205, grad_fn=<NegBackward0>)"
      ]
     },
     "execution_count": 83,
     "metadata": {},
     "output_type": "execute_result"
    }
   ],
   "source": [
    "emb = C[Xb] # embed the characters into vectors\n",
    "embcat = emb.view(emb.shape[0], -1) # concatenate the vectors\n",
    "# Linear layer 1\n",
    "hprebn = embcat @ W1 + b1 # hidden layer pre-activation\n",
    "# BatchNorm layer\n",
    "bnmeani = 1/n*hprebn.sum(0, keepdim=True)\n",
    "# zero center the batch\n",
    "bndiff = hprebn - bnmeani\n",
    "# variance is the sum of the squared differences of examples in the batch from the mean, divided by n-1 (Bessel's correction, divide by n-1 instead of n to improve the estimate of the population variance)\n",
    "bndiff2 = bndiff**2\n",
    "bnvar = 1/(n-1) * bndiff2.sum(dim=0, keepdim=True)\n",
    "# standard deviation is the square root of the variance\n",
    "# get the inverse of the standard deviation summed with a small constant to avoid division by zero\n",
    "bnvar_inv = (bnvar + 1e-5)**-0.5\n",
    "# scale the centered batch by the inverse of the standard deviation\n",
    "bnraw = bndiff * bnvar_inv\n",
    "# apply learned gain and bias to the scaled batch\n",
    "hpreact = bngain * bnraw + bnbias\n",
    "# apply the tanh activation function\n",
    "h = torch.tanh(hpreact)\n",
    "# calculate the logits for the output layer\n",
    "logits = h @ W2 + b2\n",
    "# for numerical stability, subtract the maximum logit value in each row\n",
    "logit_maxes = logits.max(dim=1, keepdim=True).values\n",
    "norm_logits = logits - logit_maxes # for numerical stability\n",
    "counts = norm_logits.exp()\n",
    "counts_sum = counts.sum(dim=1, keepdim=True)\n",
    "counts_sum_inv = counts_sum ** -1\n",
    "probs = counts * counts_sum_inv\n",
    "logprobs = probs.log()\n",
    "loss = -logprobs[range(n), Yb].mean() # we first index by the barch index and then for that particular batch row we take the probability of the character oobserved in the dataset = F.one_hot(Yb, vocab_size) * -1.0/n # n * vocab_size\n",
    "for p in parameters:\n",
    "    p.grad = None\n",
    "\n",
    "for t in reversed([emb, embcat,hprebn, bnmeani, bndiff, bndiff2, bnvar, bnvar_inv, bnraw, hpreact, h, logits, logit_maxes, norm_logits, counts, counts_sum, counts_sum_inv, probs, logprobs]):\n",
    "    t.retain_grad()\n",
    "\n",
    "loss.backward()\n",
    "\n",
    "loss\n"
   ]
  },
  {
   "cell_type": "code",
   "execution_count": 84,
   "metadata": {},
   "outputs": [
    {
     "name": "stdout",
     "output_type": "stream",
     "text": [
      "logprobs        exact: True  approx: True  max_diff: 0.0\n",
      "probs           exact: True  approx: True  max_diff: 0.0\n",
      "counts_sum_inv  exact: True  approx: True  max_diff: 0.0\n",
      "counts_sum      exact: True  approx: True  max_diff: 0.0\n",
      "counts          exact: True  approx: True  max_diff: 0.0\n",
      "norm_logits     exact: True  approx: True  max_diff: 0.0\n",
      "logit_maxes     exact: True  approx: True  max_diff: 0.0\n",
      "logits          exact: True  approx: True  max_diff: 0.0\n",
      "h               exact: True  approx: True  max_diff: 0.0\n",
      "W2              exact: True  approx: True  max_diff: 0.0\n",
      "b2              exact: True  approx: True  max_diff: 0.0\n",
      "hpreact         exact: True  approx: True  max_diff: 0.0\n",
      "bngain          exact: True  approx: True  max_diff: 0.0\n",
      "bnraw           exact: True  approx: True  max_diff: 0.0\n",
      "dbnbias         exact: True  approx: True  max_diff: 0.0\n",
      "dbnvar_inv      exact: True  approx: True  max_diff: 0.0\n",
      "dbnvar          exact: True  approx: True  max_diff: 0.0\n",
      "dbndiff2        exact: True  approx: True  max_diff: 0.0\n",
      "dbndiff         exact: True  approx: True  max_diff: 0.0\n",
      "dbnmeani        exact: True  approx: True  max_diff: 0.0\n",
      "dhprebn         exact: True  approx: True  max_diff: 0.0\n",
      "dembcat         exact: True  approx: True  max_diff: 0.0\n",
      "dW1             exact: True  approx: True  max_diff: 0.0\n",
      "db1             exact: True  approx: True  max_diff: 0.0\n",
      "demb            exact: True  approx: True  max_diff: 0.0\n",
      "C               exact: True  approx: True  max_diff: 0.0\n"
     ]
    }
   ],
   "source": [
    "dlogprobs = F.one_hot(Yb, vocab_size) * -1.0/n                                  # n * vocab_size\n",
    "dprobs = dlogprobs * (1.0/probs)                                                # n * vocab_size\n",
    "dcounts = dprobs * counts_sum_inv                                               # n * vocab_size\n",
    "dcounts_sum_inv = (dprobs * counts).sum(1, keepdim=True)                        # n * 1\n",
    "dcounts_sum = dcounts_sum_inv * -1 * (counts_sum ** -2)                         # n * 1\n",
    "dcounts += torch.ones_like(counts) * dcounts_sum                                # n * vocab_size\n",
    "dnorm_logits = dcounts * counts                                                 # n * vocab_size\n",
    "dlogits = dnorm_logits.clone()                                                  # n * vocab_size    \n",
    "dlogit_maxes = - dnorm_logits.sum(1, keepdim=True)                              # n * 1\n",
    "dlogits  += dlogit_maxes * F.one_hot(logits.max(dim=1).indices, vocab_size)     # n * vocab_size\n",
    "dh = dlogits @ W2.T                                                             # n * n_hidden\n",
    "dW2 = h.T @ dlogits                                                             # n_hidden * vocab_size\n",
    "db2 = dlogits.sum(0)                                                            # vocab_size\n",
    "dhpreact = (1.0 - h**2) * dh                                                    # n * n_hidden\n",
    "dbngain = (dhpreact * bnraw).sum(0, keepdim=True)                               # 1 * n_hidden\n",
    "dbnraw = dhpreact * bngain                                                      # n * n_hidden\n",
    "dbnbias = dhpreact.sum(0, keepdim=True)                                         # 1 * n_hidden           \n",
    "dbndiff = dbnraw * bnvar_inv                                                    # n * n_hidden\n",
    "dbnvar_inv = (dbnraw * bndiff).sum(0, keepdim=True)                             # 1 * n_hidden\n",
    "dbnvar = (-0.5*(bnvar + 1e-5)**-1.5) * dbnvar_inv                               # 1 * n_hidden\n",
    "dbndiff2 = torch.ones_like(bndiff2) * (1.0/(n-1)) * dbnvar                      # n * n_hidden\n",
    "dbndiff += dbndiff2 * 2 * bndiff                                                # n * n_hidden\n",
    "dhprebn = dbndiff.clone()                                                       # n * n_hidden                             \n",
    "dbnmeani = (-dbndiff).sum(0)                                                    # 1 * n_hidden\n",
    "dhprebn += (1/n) * torch.ones_like(hprebn) * dbnmeani                           # n * n_hidden\n",
    "dembcat = dhprebn @ W1.T                                                        # n * (n_embd * block_size)\n",
    "dW1 = embcat.T @ dhprebn                                                        # (n_embd * block_size) * n_hidden\n",
    "db1 = dhprebn.sum(0)                                                            # n_hidden\n",
    "demb = dembcat.view(emb.shape)                                                  # n * (block_size * n_embd)\n",
    "\n",
    "X_flatten = Xb.view(-1) \n",
    "demb_flatten = demb.view(-1, n_embd)\n",
    "dC = torch.zeros_like(C)\n",
    "dC.index_add_(0, X_flatten, demb_flatten)                                       # vocab_size * n_embd\n",
    "\n",
    "cmp('logprobs', dlogprobs, logprobs)\n",
    "cmp('probs', dprobs, probs)\n",
    "cmp('counts_sum_inv', dcounts_sum_inv, counts_sum_inv)\n",
    "cmp('counts_sum', dcounts_sum, counts_sum)\n",
    "cmp('counts', dcounts, counts)\n",
    "cmp('norm_logits', dnorm_logits, norm_logits)\n",
    "cmp('logit_maxes', dlogit_maxes, logit_maxes)\n",
    "cmp('logits', dlogits, logits)\n",
    "cmp('h', dh, h)\n",
    "cmp('W2', dW2, W2)\n",
    "cmp('b2', db2, b2)\n",
    "cmp('hpreact', dhpreact, hpreact)\n",
    "cmp('bngain', dbngain, bngain)\n",
    "cmp('bnraw', dbnraw, bnraw)\n",
    "cmp('dbnbias', dbnbias, bnbias)\n",
    "cmp('dbnvar_inv', dbnvar_inv, bnvar_inv)\n",
    "cmp('dbnvar', dbnvar, bnvar)\n",
    "cmp('dbndiff2', dbndiff2, bndiff2)\n",
    "cmp('dbndiff', dbndiff, bndiff)\n",
    "cmp('dbnmeani', dbnmeani, bnmeani)\n",
    "cmp('dhprebn', dhprebn, hprebn)\n",
    "cmp('dembcat', dembcat, embcat)\n",
    "cmp('dW1', dW1, W1)\n",
    "cmp('db1', db1, b1)\n",
    "cmp('demb', demb, emb)\n",
    "cmp('C', dC, C)"
   ]
  },
  {
   "cell_type": "markdown",
   "metadata": {},
   "source": [
    "# Batch Normalization Derivative\n",
    "\n",
    "Here are two images illustrating the derivative of the batch normalization layer:\n",
    "\n",
    "![Batch Normalization Derivative 1](./images/bn_derivative1.jpeg)\n",
    "\n",
    "![Batch Normalization Derivative 2](./images/bn_derivative2.jpeg)\n"
   ]
  },
  {
   "cell_type": "code",
   "execution_count": 85,
   "metadata": {},
   "outputs": [
    {
     "name": "stdout",
     "output_type": "stream",
     "text": [
      "y               exact: False approx: True  max_diff: 1.862645149230957e-09\n"
     ]
    }
   ],
   "source": [
    "# manual baclprop thorugh the batchnorm layer: dL/dhprebn\n",
    "a = (bngain * (bnvar + 1e-05) **-0.5) / n\n",
    "b = n * hpreact.grad\n",
    "c = hpreact.grad.sum(dim=0, keepdim=True)\n",
    "d = (bnraw * hpreact.grad).sum(dim=0, keepdim=True)\n",
    "e = (n/(n-1))*bnraw*(bnraw * hpreact.grad).sum(dim=0, keepdim=True)\n",
    "y = a * (b - c - e)\n",
    "y = (bngain * (bnvar + 1e-05) **-0.5) / n * (n * hpreact.grad - hpreact.grad.sum(dim=0, keepdim=True) - (n/(n-1))*bnraw*(bnraw * hpreact.grad).sum(dim=0, keepdim=True))\n",
    "\n",
    "cmp('y', y, hprebn)"
   ]
  },
  {
   "cell_type": "code",
   "execution_count": 87,
   "metadata": {},
   "outputs": [
    {
     "name": "stdout",
     "output_type": "stream",
     "text": [
      "dlogits_fast    exact: False approx: True  max_diff: 6.05359673500061e-09\n"
     ]
    }
   ],
   "source": [
    "loss_fast = F.cross_entropy(logits, Yb)\n",
    "dlogits_fast = (F.softmax(logits, 1) - F.one_hot(Yb, vocab_size)) / n\n",
    "cmp('dlogits_fast', dlogits_fast, logits)"
   ]
  },
  {
   "cell_type": "code",
   "execution_count": 106,
   "metadata": {},
   "outputs": [
    {
     "data": {
      "text/plain": [
       "<matplotlib.image.AxesImage at 0x15e74d2f9d0>"
      ]
     },
     "execution_count": 106,
     "metadata": {},
     "output_type": "execute_result"
    },
    {
     "data": {
      "image/png": "[encoded data removed]",
      "text/plain": [
       "<Figure size 800x800 with 1 Axes>"
      ]
     },
     "metadata": {},
     "output_type": "display_data"
    }
   ],
   "source": [
    "plt.figure(figsize=(8, 8))\n",
    "plt.imshow(dlogits.detach(), cmap='gray')"
   ]
  },
  {
   "cell_type": "code",
   "execution_count": 103,
   "metadata": {},
   "outputs": [
    {
     "data": {
      "text/plain": [
       "tensor([0.0670, 0.0856, 0.0172, 0.0502, 0.0199, 0.0873, 0.0250, 0.0385, 0.0197,\n",
       "        0.0304, 0.0359, 0.0358, 0.0356, 0.0280, 0.0321, 0.0135, 0.0096, 0.0185,\n",
       "        0.0158, 0.0548, 0.0529, 0.0218, 0.0248, 0.0718, 0.0613, 0.0252, 0.0217],\n",
       "       grad_fn=<SelectBackward0>)"
      ]
     },
     "execution_count": 103,
     "metadata": {},
     "output_type": "execute_result"
    }
   ],
   "source": [
    "F.softmax(logits, 1)[0]"
   ]
  },
  {
   "cell_type": "code",
   "execution_count": 105,
   "metadata": {},
   "outputs": [
    {
     "data": {
      "text/plain": [
       "(tensor([ 0.0670,  0.0856,  0.0172,  0.0502,  0.0199,  0.0873,  0.0250,  0.0385,\n",
       "         -0.9803,  0.0304,  0.0359,  0.0358,  0.0356,  0.0280,  0.0321,  0.0135,\n",
       "          0.0096,  0.0185,  0.0158,  0.0548,  0.0529,  0.0218,  0.0248,  0.0718,\n",
       "          0.0613,  0.0252,  0.0217], grad_fn=<MulBackward0>),\n",
       " tensor(-7.4506e-09, grad_fn=<SumBackward0>))"
      ]
     },
     "execution_count": 105,
     "metadata": {},
     "output_type": "execute_result"
    }
   ],
   "source": [
    "x = dlogits[0] * n # times n to undo the mean\n",
    "x, x.sum()"
   ]
  },
  {
   "cell_type": "markdown",
   "metadata": {},
   "source": [
    "We want to increase the probability of the the right character. Increasing the probability of the righ character means decreaing the counts of the incorrect characters and increasing the counts of the right character. So we will add to the logit of the correct character (-(-0.9803) -> 0.9803) and we will subtract from the logits of the incorrect characters. And the magnitude of the force of the pull upwards (for the correct character) and the force of the pull downwards will be the same (the sum above is zero). So we are pulling and pushing and the amount of the force that we apply is proportional to the probabilities that came out in the forward pass. So if one character was predicted as likely but was actually not, it will get updated more than one that was incorrect but also had low probability."
   ]
  },
  {
   "cell_type": "markdown",
   "metadata": {},
   "source": [
    "# Putting it all together"
   ]
  },
  {
   "cell_type": "code",
   "execution_count": 176,
   "metadata": {},
   "outputs": [
    {
     "name": "stdout",
     "output_type": "stream",
     "text": [
      "      0/ 200000: 3.3413\n",
      "  10000/ 200000: 2.4379\n",
      "  20000/ 200000: 2.1176\n",
      "  30000/ 200000: 2.3711\n",
      "  40000/ 200000: 2.2701\n",
      "  50000/ 200000: 2.2300\n",
      "  60000/ 200000: 2.2726\n",
      "  70000/ 200000: 2.5170\n",
      "  80000/ 200000: 2.1190\n",
      "  90000/ 200000: 2.3738\n",
      " 100000/ 200000: 2.0856\n",
      " 110000/ 200000: 1.8341\n",
      " 120000/ 200000: 1.9820\n",
      " 130000/ 200000: 2.5408\n",
      " 140000/ 200000: 1.8672\n",
      " 150000/ 200000: 2.1628\n",
      " 160000/ 200000: 2.0586\n",
      " 170000/ 200000: 2.2303\n",
      " 180000/ 200000: 1.9925\n",
      " 190000/ 200000: 2.0217\n",
      " 199999/ 200000: 2.0544\n"
     ]
    }
   ],
   "source": [
    "n_embd = 10 # the dimensionality of the character embedding vectors\n",
    "n_hidden = 64 # the number of neurons in the hidden layer of the MLP\n",
    "\n",
    "g = torch.Generator().manual_seed(2147483647) # for reproducibility\n",
    "C  = torch.randn((vocab_size, n_embd),            generator=g)\n",
    "# Layer 1\n",
    "W1 = torch.randn((n_embd * block_size, n_hidden), generator=g) * (5/3)/((n_embd * block_size)**0.5)\n",
    "b1 = torch.randn(n_hidden,                        generator=g) * 0.1 # using b1 just for fun, it's useless because of BN\n",
    "# Layer 2\n",
    "W2 = torch.randn((n_hidden, vocab_size),          generator=g) * 0.1\n",
    "b2 = torch.randn(vocab_size,                      generator=g) * 0.1\n",
    "# BatchNorm parameters\n",
    "bngain = torch.randn((1, n_hidden))*0.1 + 1.0\n",
    "bnbias = torch.randn((1, n_hidden))*0.1\n",
    "\n",
    "# Note: I am initializating many of these parameters in non-standard ways\n",
    "# because sometimes initializating with e.g. all zeros could mask an incorrect\n",
    "# implementation of the backward pass. Because when everything is zero the\n",
    "# expression of gradient is simplified.\n",
    "\n",
    "parameters = [C, W1, b1, W2, b2, bngain, bnbias]\n",
    "\n",
    "max_steps = 200000\n",
    "eval_interval = 10000\n",
    "batch_size = 32\n",
    "n = batch_size\n",
    "lossi = []\n",
    "\n",
    "with torch.no_grad():\n",
    "  for i in range(max_steps):\n",
    "    ix = torch.randint(0, Xtr.shape[0], (n,), generator=g)\n",
    "    Xb, Yb = Xtr[ix], Ytr[ix]\n",
    "\n",
    "    # -------------------------- FORWARD PASS -------------------------- #\n",
    "    emb = C[Xb]\n",
    "    embcat = emb.view(emb.shape[0], -1)\n",
    "    hprebn = embcat @ W1 + b1\n",
    "\n",
    "    # -------------------------- BATCHNORM LAYER ----------------------- #\n",
    "    bnmeani = 1/n*hprebn.sum(0, keepdim=True)\n",
    "    bndiff = hprebn - bnmeani\n",
    "    bndiff2 = bndiff**2\n",
    "    bnvar = 1/(n-1) * bndiff2.sum(dim=0, keepdim=True)\n",
    "    bnvar_inv = (bnvar + 1e-5)**-0.5\n",
    "    bnraw = bndiff * bnvar_inv\n",
    "    hpreact = bngain * bnraw + bnbias\n",
    "    # -------------------------- ACTIVATION FUNCTION ------------------- #\n",
    "    h = torch.tanh(hpreact)\n",
    "    logits = h @ W2 + b2\n",
    "    # -------------------------- LOSS FUNCTION ------------------------- #\n",
    "    loss = F.cross_entropy(logits, Yb)\n",
    "\n",
    "    # -------------------------- BACKWARD PASS ------------------------- #\n",
    "    dC, dW1, db1, dW2, db2, dbngain, dbnbias = None, None, None, None, None, None, None\n",
    "    dlogits = (F.softmax(logits, 1) - F.one_hot(Yb, vocab_size)) / n\n",
    "    dh = dlogits @ W2.T\n",
    "    dW2 = h.T @ dlogits\n",
    "    db2 = dlogits.sum(0)\n",
    "    dhpreact = (1.0 - h**2) * dh\n",
    "    dbnbias = dhpreact.sum(0, keepdim=True)\n",
    "    dbngain = (dhpreact * bnraw).sum(0, keepdim=True)\n",
    "    dhprebn = bngain * bnvar_inv / n * (n * dhpreact - dhpreact.sum(dim=0, keepdim=True) - (n/(n-1))*bnraw*(bnraw * dhpreact).sum(dim=0, keepdim=True))\n",
    "    dembcat = dhprebn @ W1.T\n",
    "    dW1 = embcat.T @ dhprebn\n",
    "    db1 = dhprebn.sum(0)\n",
    "    demb = dembcat.view(emb.shape)\n",
    "\n",
    "    X_flatten = Xb.view(-1)\n",
    "    demb_flatten = demb.view(-1, n_embd)\n",
    "    dC = torch.zeros_like(C)\n",
    "    dC.index_add_(0, X_flatten, demb_flatten)\n",
    "\n",
    "    grads = [dC, dW1, db1, dW2, db2, dbngain, dbnbias]\n",
    "\n",
    "    # -------------------------- UPDATE PARAMETERS ----------------------- #\n",
    "    lr = 0.1 if i < max_steps * 0.5 else 0.01\n",
    "\n",
    "    for p, d in zip(parameters, grads):\n",
    "      p.data -= lr * d\n",
    "\n",
    "    if i % eval_interval == 0 or i == max_steps - 1:\n",
    "      print(f'{i:7d}/{max_steps:7d}: {loss.item():.4f}')\n",
    "      lossi.append(loss.item())\n"
   ]
  },
  {
   "cell_type": "code",
   "execution_count": 173,
   "metadata": {},
   "outputs": [],
   "source": [
    "with torch.no_grad():\n",
    "    # pass the entire training set thorugh the network\n",
    "    # measure the mean and the standard deviation of hpreact for the entire training set\n",
    "    emb = C[Xtr]\n",
    "    embcat = emb.view(emb.shape[0], -1)\n",
    "    hpreact = embcat @ W1 + b1\n",
    "    bnmean = hpreact.mean(dim=0, keepdim=True)\n",
    "    bnvar = hpreact.var(dim=0, keepdim=True, unbiased=True)\n"
   ]
  },
  {
   "cell_type": "code",
   "execution_count": 175,
   "metadata": {},
   "outputs": [
    {
     "name": "stdout",
     "output_type": "stream",
     "text": [
      "train 2.1457653045654297\n",
      "val 2.163302183151245\n",
      "test 2.1645994186401367\n"
     ]
    }
   ],
   "source": [
    "@torch.no_grad() # this decorator disables gradient tracking\n",
    "def split_loss(split):\n",
    "  x,y = {\n",
    "    'train': (Xtr, Ytr),\n",
    "    'val': (Xval, Yval),\n",
    "    'test': (Xte, Yte),\n",
    "  }[split]\n",
    "  emb = C[x] # (N, block_size, n_embd)\n",
    "  x = emb.view(emb.shape[0], -1) # concat into (N, block_size * n_embd)\n",
    "  hpreact = x @ W1 + b1\n",
    "  hpreact_centered = hpreact - bnmean\n",
    "  hpreact_normalized = bngain * (hpreact_centered * (bnvar + 1e-5)**-0.5) + bnbias\n",
    "  h = torch.tanh(hpreact_normalized)\n",
    "  logits = h @ W2 + b2\n",
    "  loss = F.cross_entropy(logits, y)\n",
    "  print(split, loss.item())\n",
    "\n",
    "split_loss('train')\n",
    "split_loss('val')\n",
    "split_loss('test')"
   ]
  },
  {
   "cell_type": "code",
   "execution_count": 178,
   "metadata": {},
   "outputs": [
    {
     "name": "stdout",
     "output_type": "stream",
     "text": [
      "fini.\n",
      "sam.\n",
      "kayanni.\n",
      "jarjanurryah.\n",
      "emmurhan.\n",
      "asme.\n",
      "prehrunte.\n",
      "ron.\n",
      "lenselvelli.\n",
      "prashs.\n",
      "savarebrirynnnlee.\n",
      "phir.\n",
      "dresh.\n",
      "dinashutrevyn.\n",
      "mehnennie.\n",
      "naigertonnveen.\n",
      "jacharlinna.\n",
      "laniniqunne.\n",
      "jayve.\n",
      "nhyndrnnyth.\n"
     ]
    }
   ],
   "source": [
    "for i in range(20):\n",
    "    context = [0] * block_size\n",
    "    out = []\n",
    "    while True:\n",
    "        emb = C[torch.tensor([context])]\n",
    "        x = emb.view(emb.shape[0], -1) # concat into (N, block_size * n_embd)\n",
    "        hpreact = x @ W1 + b1\n",
    "        hpreact_centered = hpreact - bnmean\n",
    "        hpreact_normalized = bngain * (hpreact_centered * (bnvar + 1e-5)**-0.5) + bnbias\n",
    "        h = torch.tanh(hpreact_normalized)\n",
    "        logits = h @ W2 + b2\n",
    "        probs = F.softmax(logits, dim=1)\n",
    "        ix = torch.multinomial(probs, num_samples=1, generator=g).item()\n",
    "        context = context[1:] + [ix]\n",
    "        out.append(decode(ix))\n",
    "        if ix == 0:\n",
    "            break\n",
    "    print(''.join(out))\n"
   ]
  }
 ],
 "metadata": {
  "kernelspec": {
   "display_name": ".venv",
   "language": "python",
   "name": "python3"
  },
  "language_info": {
   "codemirror_mode": {
    "name": "ipython",
    "version": 3
   },
   "file_extension": ".py",
   "mimetype": "text/x-python",
   "name": "python",
   "nbconvert_exporter": "python",
   "pygments_lexer": "ipython3",
   "version": "3.11.9"
  }
 },
 "nbformat": 4,
 "nbformat_minor": 2
}
