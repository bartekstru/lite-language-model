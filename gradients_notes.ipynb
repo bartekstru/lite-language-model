{
 "cells": [
  {
   "cell_type": "code",
   "execution_count": 44,
   "metadata": {},
   "outputs": [],
   "source": [
    "import torch\n",
    "import torch.nn.functional as F\n",
    "import matplotlib.pyplot as plt\n",
    "import random\n",
    "import math\n",
    "%matplotlib inline"
   ]
  },
  {
   "cell_type": "code",
   "execution_count": 45,
   "metadata": {},
   "outputs": [],
   "source": [
    "words = open('names.txt', 'r').read().splitlines()"
   ]
  },
  {
   "cell_type": "code",
   "execution_count": 46,
   "metadata": {},
   "outputs": [],
   "source": [
    "chars = ['.'] + sorted(list(set(''.join(words))))\n",
    "encode = lambda c: chars.index(c)\n",
    "decode = lambda i: chars[i]"
   ]
  },
  {
   "cell_type": "code",
   "execution_count": 47,
   "metadata": {},
   "outputs": [],
   "source": [
    "block_size = 3\n",
    "vocab_size = len(chars)"
   ]
  },
  {
   "cell_type": "code",
   "execution_count": 48,
   "metadata": {},
   "outputs": [
    {
     "name": "stdout",
     "output_type": "stream",
     "text": [
      "torch.Size([182625, 3]) torch.Size([182625])\n",
      "torch.Size([22655, 3]) torch.Size([22655])\n",
      "torch.Size([22866, 3]) torch.Size([22866])\n"
     ]
    }
   ],
   "source": [
    "def build_dataset(words):\n",
    "    X, Y = [], []\n",
    "    for w in words:\n",
    "        context = [0] * block_size\n",
    "        for c in w + '.':\n",
    "            ix = encode(c)\n",
    "            X.append(context)\n",
    "            Y.append(ix)\n",
    "            context = context[1:] + [ix]\n",
    "\n",
    "    X = torch.tensor(X)\n",
    "    Y = torch.tensor(Y)\n",
    "    print(X.shape, Y.shape)\n",
    "    return X, Y\n",
    "\n",
    "random.seed(42)\n",
    "random.shuffle(words)\n",
    "n1 = int(0.8 * len(words))\n",
    "n2 = int(0.9 * len(words))\n",
    "\n",
    "Xtr, Ytr = build_dataset(words[:n1])\n",
    "Xval, Yval = build_dataset(words[n1:n2])\n",
    "Xte, Yte = build_dataset(words[n2:])"
   ]
  },
  {
   "cell_type": "code",
   "execution_count": 130,
   "metadata": {},
   "outputs": [
    {
     "name": "stdout",
     "output_type": "stream",
     "text": [
      "12097\n"
     ]
    }
   ],
   "source": [
    "# MLP revisited\n",
    "n_embd = 10 # the dimensionality of the character embedding vectors\n",
    "n_hidden = 200 # the number of neurons in the hidden layer of the MLP\n",
    "\n",
    "g = torch.Generator().manual_seed(2147483647) # for reproducibility\n",
    "C  = torch.randn((vocab_size, n_embd),            generator=g)\n",
    "W1 = torch.randn((n_embd * block_size, n_hidden), generator=g) * 5/3 * (n_embd * block_size)**-0.5\n",
    "# b1 = torch.randn(n_hidden,                        generator=g) * 0.01 useless because of batch norm's layer own bias\n",
    "W2 = torch.randn((n_hidden, vocab_size),          generator=g) * 0.01\n",
    "b2 = torch.randn(vocab_size,                      generator=g) * 0\n",
    "bngain = torch.ones((1, n_hidden))\n",
    "bnbias = torch.zeros((1, n_hidden))\n",
    "bnmean_running = torch.zeros(n_hidden)\n",
    "bnstd_running = torch.zeros(n_hidden)\n",
    "parameters = [C, W1, W2, b2, bngain, bnbias]\n",
    "print(sum(p.nelement() for p in parameters)) # number of parameters in total\n",
    "for p in parameters:\n",
    "  p.requires_grad = True"
   ]
  },
  {
   "cell_type": "code",
   "execution_count": 124,
   "metadata": {},
   "outputs": [
    {
     "name": "stdout",
     "output_type": "stream",
     "text": [
      "      0/ 200000: 3.3147\n",
      "  10000/ 200000: 2.1984\n",
      "  20000/ 200000: 2.3375\n",
      "  30000/ 200000: 2.4359\n",
      "  40000/ 200000: 2.0119\n",
      "  50000/ 200000: 2.2595\n",
      "  60000/ 200000: 2.4775\n",
      "  70000/ 200000: 2.1020\n",
      "  80000/ 200000: 2.2788\n",
      "  90000/ 200000: 2.1862\n",
      " 100000/ 200000: 1.9474\n",
      " 110000/ 200000: 2.3010\n",
      " 120000/ 200000: 1.9837\n",
      " 130000/ 200000: 2.4523\n",
      " 140000/ 200000: 2.3839\n",
      " 150000/ 200000: 2.1987\n",
      " 160000/ 200000: 1.9733\n",
      " 170000/ 200000: 1.8668\n",
      " 180000/ 200000: 1.9973\n",
      " 190000/ 200000: 1.8347\n"
     ]
    }
   ],
   "source": [
    "# same optimization as last time\n",
    "max_steps = 200000\n",
    "batch_size = 32\n",
    "lossi = []\n",
    "\n",
    "for i in range(max_steps):\n",
    "  \n",
    "  # minibatch construct\n",
    "  ix = torch.randint(0, Xtr.shape[0], (batch_size,), generator=g)\n",
    "  Xb, Yb = Xtr[ix], Ytr[ix] # batch X,Y\n",
    "  \n",
    "  # forward pass\n",
    "  emb = C[Xb] # embed the characters into vectors\n",
    "  embcat = emb.view(emb.shape[0], -1) # concatenate the vectors\n",
    "  # Linear layer\n",
    "  hpreact = embcat @ W1 # + b1 removing b1 because bn layer will have its own # hidden layer pre-activation \n",
    "  # BatchNorm layer\n",
    "  # -------------------------------------------------------------\n",
    "  bnmeani = hpreact.mean(0, keepdim=True)\n",
    "  bnstdi = hpreact.std(0, keepdim=True)\n",
    "  hpreact = bngain * (hpreact - bnmeani) / bnstdi + bnbias\n",
    "  with torch.no_grad(): # keeo the running stats\n",
    "    bnmean_running = 0.999 * bnmean_running + 0.001 * bnmeani\n",
    "    bnstd_running = 0.999 * bnstd_running + 0.001 * bnstdi\n",
    "  # -------------------------------------------------------------\n",
    "  # Non-linearity\n",
    "  h = torch.tanh(hpreact) # hidden layer\n",
    "  logits = h @ W2 + b2 # output layer\n",
    "  loss = F.cross_entropy(logits, Yb) # loss function\n",
    "  \n",
    "  # backward pass\n",
    "  for p in parameters:\n",
    "    p.grad = None\n",
    "  loss.backward()\n",
    "  \n",
    "  # update\n",
    "  lr = 0.1 if i < 100000 else 0.01 # step learning rate decay\n",
    "  for p in parameters:\n",
    "    p.data += -lr * p.grad\n",
    "\n",
    "  # track stats\n",
    "  if i % 10000 == 0: # print every once in a while\n",
    "    print(f'{i:7d}/{max_steps:7d}: {loss.item():.4f}')\n",
    "  lossi.append(loss.item())"
   ]
  },
  {
   "cell_type": "code",
   "execution_count": 125,
   "metadata": {},
   "outputs": [
    {
     "data": {
      "text/plain": [
       "[<matplotlib.lines.Line2D at 0x2254643f410>]"
      ]
     },
     "execution_count": 125,
     "metadata": {},
     "output_type": "execute_result"
    },
    {
     "data": {
      "image/png": "[encoded data removed]",
      "text/plain": [
       "<Figure size 640x480 with 1 Axes>"
      ]
     },
     "metadata": {},
     "output_type": "display_data"
    }
   ],
   "source": [
    "plt.plot(lossi)\n"
   ]
  },
  {
   "cell_type": "code",
   "execution_count": 126,
   "metadata": {},
   "outputs": [],
   "source": [
    "with torch.no_grad():\n",
    "    emb = C[Xtr]\n",
    "    x = emb.view(emb.shape[0], -1)\n",
    "    hpreact = x @ W1 + b1\n",
    "    bnmean = hpreact.mean(0, keepdim=True)\n",
    "    bnstd = hpreact.std(0, keepdim=True)"
   ]
  },
  {
   "cell_type": "code",
   "execution_count": 127,
   "metadata": {},
   "outputs": [
    {
     "data": {
      "text/plain": [
       "tensor([[-2.3355,  0.6776, -0.9133,  1.0163,  1.0865,  1.0937,  1.7437, -2.1208,\n",
       "          0.5730,  1.4455, -1.6343, -2.7372, -0.4752, -0.1412, -0.0745, -1.1722,\n",
       "          0.6851, -2.6219, -0.1065,  1.6326, -0.7706, -0.3063,  0.0479,  0.6116,\n",
       "          1.1173,  0.2427,  2.0500,  0.5831,  0.8527,  1.7680, -0.3625, -0.8355,\n",
       "         -0.0854, -0.5177, -0.3806, -1.0699, -0.0786,  0.3487, -0.5808,  0.9875,\n",
       "         -0.4427, -1.3082, -0.2871, -0.2332,  0.6850,  0.6850,  2.0857, -0.7608,\n",
       "          2.3866,  1.8734,  0.8259,  0.2803,  1.8897,  0.4709,  0.6739, -1.8940,\n",
       "         -0.0401,  0.4338,  1.3760, -0.8910, -0.4523,  1.1754,  0.5613,  0.6051,\n",
       "          1.5858,  1.2261, -1.0111,  2.1495, -0.6393,  0.0938, -0.2864, -0.4856,\n",
       "          0.9632, -1.0461, -2.9990,  0.6391,  1.4327, -0.1590,  0.0941,  0.5253,\n",
       "          0.2508,  1.2521,  2.0388,  0.6608,  0.0691, -0.0813, -1.6723,  0.2933,\n",
       "          2.2423, -0.0210, -0.6666,  1.4253, -0.8412, -1.2248, -1.0129,  0.2230,\n",
       "          0.2112, -0.3226,  0.1141, -0.6350,  0.1848,  0.1165, -1.3947,  0.2343,\n",
       "          0.2170, -0.3494, -0.3409, -0.1918,  0.9244, -0.8073,  0.7147,  0.2383,\n",
       "          0.3964,  1.2354,  2.8623,  2.0470,  0.8419,  0.8480,  0.3483, -0.3153,\n",
       "         -1.0647, -1.4465,  0.3518,  1.1174, -1.1265,  0.0688, -0.2204, -0.4964,\n",
       "         -0.8558, -1.0849,  2.8098, -1.2867,  0.6543,  1.8674,  0.9511,  1.0606,\n",
       "         -0.7020,  1.8505,  0.1528,  0.4583,  1.6235, -0.1899,  1.9335,  0.2938,\n",
       "          0.4391,  0.2065,  1.1369, -0.6884,  0.1559,  0.5905, -1.5956, -0.2324,\n",
       "          1.7724,  1.2664,  0.9916, -0.4957,  1.4023, -1.6664,  0.0178,  0.4224,\n",
       "          0.5857, -0.4225,  0.9377, -1.1793, -0.4486, -0.7184, -0.3307, -0.4207,\n",
       "         -2.1519, -0.1099,  1.1733, -2.1530,  0.1215, -0.8929, -0.9959,  0.9028,\n",
       "          1.3427, -0.7526,  1.3065, -1.5016,  1.8439,  0.9704,  0.8244, -0.7247,\n",
       "          0.3621,  0.0768, -0.9657,  0.1345,  1.8784,  0.9191, -0.5020,  1.6438,\n",
       "         -0.7394,  0.2081,  0.1425,  1.2711,  1.8083, -0.8162,  0.2586,  1.2403]])"
      ]
     },
     "execution_count": 127,
     "metadata": {},
     "output_type": "execute_result"
    }
   ],
   "source": [
    "bnmean"
   ]
  },
  {
   "cell_type": "code",
   "execution_count": 128,
   "metadata": {},
   "outputs": [
    {
     "data": {
      "text/plain": [
       "tensor([[-2.3539,  0.6872, -0.9001,  1.0159,  1.0894,  1.0862,  1.7389, -2.1357,\n",
       "          0.5608,  1.4246, -1.6445, -2.7426, -0.4861, -0.1510, -0.0687, -1.1550,\n",
       "          0.6891, -2.6399, -0.1283,  1.6240, -0.7732, -0.2865,  0.0467,  0.6119,\n",
       "          1.1172,  0.2433,  2.0542,  0.5778,  0.8515,  1.7729, -0.3741, -0.8385,\n",
       "         -0.0831, -0.5198, -0.3817, -1.0699, -0.0780,  0.3370, -0.5768,  0.9935,\n",
       "         -0.4507, -1.3313, -0.2895, -0.2299,  0.6877,  0.6936,  2.0835, -0.7759,\n",
       "          2.3804,  1.8613,  0.8117,  0.2735,  1.8802,  0.4705,  0.6656, -1.8962,\n",
       "         -0.0420,  0.4356,  1.3924, -0.8906, -0.4676,  1.1688,  0.5539,  0.6001,\n",
       "          1.5853,  1.2103, -1.0171,  2.1422, -0.6330,  0.1071, -0.2926, -0.4831,\n",
       "          0.9506, -1.0144, -2.9925,  0.6268,  1.4404, -0.1574,  0.0955,  0.5159,\n",
       "          0.2487,  1.2401,  2.0104,  0.6695,  0.0768, -0.0851, -1.6768,  0.2963,\n",
       "          2.2374, -0.0100, -0.6669,  1.4356, -0.8431, -1.2317, -1.0220,  0.2201,\n",
       "          0.1928, -0.3261,  0.1108, -0.6206,  0.1795,  0.1089, -1.4007,  0.2215,\n",
       "          0.2301, -0.3369, -0.3340, -0.1849,  0.9342, -0.8288,  0.7118,  0.2475,\n",
       "          0.3813,  1.2447,  2.8428,  2.0338,  0.8295,  0.8458,  0.3484, -0.3078,\n",
       "         -1.0773, -1.4394,  0.3424,  1.1274, -1.1252,  0.0692, -0.2308, -0.4936,\n",
       "         -0.8471, -1.0785,  2.8080, -1.2824,  0.6541,  1.8701,  0.9662,  1.0696,\n",
       "         -0.7051,  1.8326,  0.1624,  0.4782,  1.6376, -0.1962,  1.9364,  0.2986,\n",
       "          0.4300,  0.2062,  1.1390, -0.6907,  0.1571,  0.5883, -1.5947, -0.2229,\n",
       "          1.7796,  1.2689,  0.9813, -0.4950,  1.4052, -1.6645,  0.0249,  0.4152,\n",
       "          0.5742, -0.4044,  0.9335, -1.1684, -0.4574, -0.7229, -0.3192, -0.4214,\n",
       "         -2.1397, -0.1036,  1.1620, -2.1602,  0.1196, -0.8847, -0.9970,  0.9115,\n",
       "          1.3360, -0.7411,  1.2991, -1.5061,  1.8279,  0.9732,  0.8192, -0.7259,\n",
       "          0.3556,  0.0714, -0.9718,  0.1299,  1.8912,  0.9107, -0.4950,  1.6493,\n",
       "         -0.7601,  0.2008,  0.1606,  1.2586,  1.8110, -0.8021,  0.2453,  1.2369]])"
      ]
     },
     "execution_count": 128,
     "metadata": {},
     "output_type": "execute_result"
    }
   ],
   "source": [
    "bnmean_running"
   ]
  },
  {
   "cell_type": "code",
   "execution_count": 129,
   "metadata": {},
   "outputs": [
    {
     "name": "stdout",
     "output_type": "stream",
     "text": [
      "train 2.06659197807312\n",
      "val 2.1050572395324707\n"
     ]
    }
   ],
   "source": [
    "@torch.no_grad() # this decorator disables gradient tracking\n",
    "def split_loss(split):\n",
    "  x,y = {\n",
    "    'train': (Xtr, Ytr),\n",
    "    'val': (Xval, Yval),\n",
    "    'test': (Xte, Yte),\n",
    "  }[split]\n",
    "  emb = C[x] # (N, block_size, n_embd)\n",
    "  x = emb.view(emb.shape[0], -1) # concat into (N, block_size * n_embd)\n",
    "  hpreact = x @ W1 + b1\n",
    "  hpreact = bngain * (hpreact - bnmean_running) / bnstd_running + bnbias\n",
    "  h = torch.tanh(hpreact)\n",
    "  logits = h @ W2 + b2\n",
    "  loss = F.cross_entropy(logits, y)\n",
    "  print(split, loss.item())\n",
    "\n",
    "split_loss('train')\n",
    "split_loss('val')"
   ]
  },
  {
   "cell_type": "markdown",
   "metadata": {},
   "source": [
    "When \n",
    "```\n",
    "W2 = torch.randn((n_hidden, vocab_size),          generator=g) * 0.01\n",
    "b2 = torch.randn(vocab_size,                      generator=g) * 0\n",
    "```\n",
    "<pre>\n",
    "      \n",
    "      0/ 200000: 27.8817 <------- this is way to high, means the initialization is wrong. you sholud have a roiugh idea of what the initial loss should be. The network is very confidentl wrog\n",
    "  10000/ 200000: 2.8547  <- at init the distribvutoin should be uniform. p=1/27, nll = -log(1/27) = 3.29. this should be roughly the starting point. the initial logits should be roughly the same for all chars\n",
    "  20000/ 200000: 2.5158\n",
    "  30000/ 200000: 2.8251\n",
    "  40000/ 200000: 2.0468\n",
    "  50000/ 200000: 2.5537\n",
    "  60000/ 200000: 2.3718\n",
    "  70000/ 200000: 2.1337\n",
    "  80000/ 200000: 2.2612\n",
    "  90000/ 200000: 2.3405\n",
    " 100000/ 200000: 2.0309\n",
    " 110000/ 200000: 2.4856\n",
    " 120000/ 200000: 1.9046\n",
    " 130000/ 200000: 2.4561\n",
    " 140000/ 200000: 2.2440\n",
    " 150000/ 200000: 2.1515\n",
    " 160000/ 200000: 2.0846\n",
    " 170000/ 200000: 1.8103\n",
    " 180000/ 200000: 2.0295\n",
    " 190000/ 200000: 1.8398\n",
    "</pre>"
   ]
  },
  {
   "cell_type": "markdown",
   "metadata": {},
   "source": [
    "we want all the logits to be roughly zero at iniitalization. how to achieve it?\n",
    "\n",
    "set the b2 to zero, so that it is just zero at init. also, make w2 very small, to make the logits very small. so scale it by 0.01. do not scale it by zero. with scalin like that we get a differnet starting point:\n",
    "\n",
    "<pre>\n",
    "0/ 200000: 3.3221\n",
    "  10000/ 200000: 2.1900\n",
    "  20000/ 200000: 2.4196\n",
    "  30000/ 200000: 2.6067\n",
    "</pre>\n",
    "\n",
    "we took away the easy part of the optimalization and there is no hockey stick appearance. hockey stick means that the we are wasting cycles to simply sqyash the weights.\n",
    "\n",
    "the problem is now with the activations of the hidden state. this is what the output of h after one iteration looks like:\n",
    "\n",
    "<pre>\n",
    "tensor([[ 0.8100, -0.8997, -0.9993,  ..., -0.9097, -1.0000,  1.0000],\n",
    "        [-1.0000, -0.9571, -0.7145,  ...,  0.4898,  0.9090,  0.9937],\n",
    "        [ 0.9983, -0.3340,  1.0000,  ...,  0.9443,  0.9905,  1.0000],\n",
    "        ...,\n",
    "        [-1.0000,  0.9604, -0.1418,  ..., -0.1266,  1.0000,  1.0000],\n",
    "        [-1.0000, -0.4385, -0.8882,  ..., -0.3316,  0.9995,  1.0000],\n",
    "        [-1.0000,  0.9604, -0.1418,  ..., -0.1266,  1.0000,  1.0000]],\n",
    "       grad_fn=<TanhBackward0>)\n",
    "</pre>\n",
    "\n",
    "many of its elements are 1 or close to it, whhich blocks the gradients from flowing backwards\n",
    "\n",
    "\n",
    "Let's visualize the distribution of activations in the hidden state: \n",
    "\n",
    "![Histogram of hidden state activations](images/histogams_1.png)\n",
    " \n",
    "As we can see from the histogram, many of the activations are concentrated at the extreme values of -1 and 1. This is problematic because it can lead to vanishing gradients during backpropagation, as the gradient of the tanh function is very small near these values.\n",
    "\n",
    "The distribution of the pre activation values looks like this:\n",
    "\n",
    "![Histogram of hidden state activations](images/hpreact_1.png)"
   ]
  },
  {
   "cell_type": "markdown",
   "metadata": {},
   "source": [
    "because the variance of preactivations is so large, a lot of inputrs to the tanh are in the flat saturated region. the gradient flowing thorugh tanh can only ever decrease by (1-t^2) factor.\n",
    "the concern is that if all the outputs are in the flat regions, the gradient s flowing backwars wil be destroyed.\n",
    "\n",
    "White pixel - dead.\n",
    "\n",
    "![Histogram of hidden state activations](images/dead_1.png)\n",
    "\n",
    "\n",
    "if the entire column is white, this means that for every example in the batch the activation is in the flat region, and the neuron is esentially dead. this neuron will never learn.\n",
    "\n",
    "at least here, for each neuron, we have some examples which trigger it.\n",
    "\n",
    "however, what can happen during training is that a high gradient knoks a neuron off into this dead space and from that point on, the neuron never learns.\n",
    "\n",
    "the lesson is that the preactivation values are too large. they need to be smaller so that the activations are not in the dead space. We want them to be roughly guassian.\n",
    "\n",
    "`hpreact = embcat @ W1 + b1 # hidden layer pre-activation`\n",
    "\n",
    "we want hpreact to be closer to zero. it is okey to set the biases to something small but not zero to introduce some entropy so that there is some var and dversity, that can help a little bit.\n",
    "we want to squash the weights too\n",
    "\n",
    "now we have \n",
    "\n",
    "```\n",
    "W1 = torch.randn((n_embd * block_size, n_hidden), generator=g) * 0.1\n",
    "b1 = torch.randn(n_hidden,                        generator=g) * 0.01\n",
    "```\n",
    "\n",
    "![Histogram of hidden state activations](images/dead_2.png)\n",
    "\n",
    "![Histogram of hidden state activations](images/histogams_2.png)\n",
    "\n",
    "\n",
    "and the activations are not in the flat area. \n",
    "\n",
    "The pre activations are also not that spread out.\n",
    "\n",
    "![Histogram of hidden state activations](images/hpreact_2.png)\n",
    "\n",
    "\n",
    "\n"
   ]
  },
  {
   "cell_type": "markdown",
   "metadata": {},
   "source": [
    "initial, softmax confidently wrong\n",
    "train 2.125821828842163\n",
    "val 2.1704132556915283\n",
    "\n",
    "fix softmax initially confidently wrong\n",
    "train 2.069589138031006\n",
    "val 2.131074905395508\n",
    "\n",
    "fix tanh too saturated at init\n",
    "train 2.0355966091156006\n",
    "val 2.102678060531616\n",
    "\n",
    "kaiming intialization:\n",
    "train 2.0376644134521484\n",
    "val 2.106989622116089 < we got to the same spot without having to introduce any maginc numbers\n",
    "\n",
    "with batchnorm and all previous improvements:\n",
    "train 2.0668270587921143\n",
    "val 2.104844808578491\n",
    "\n",
    "with batchnorm and running means:\n",
    "train 2.06659197807312\n",
    "val 2.1050572395324707\n",
    "\n"
   ]
  },
  {
   "cell_type": "code",
   "execution_count": 99,
   "metadata": {},
   "outputs": [
    {
     "data": {
      "text/plain": [
       "tensor(0.1984)"
      ]
     },
     "execution_count": 99,
     "metadata": {},
     "output_type": "execute_result"
    }
   ],
   "source": [
    "(torch.randn(10000) * 0.2).std()"
   ]
  },
  {
   "cell_type": "code",
   "execution_count": 98,
   "metadata": {},
   "outputs": [
    {
     "name": "stdout",
     "output_type": "stream",
     "text": [
      "tensor(0.0022) tensor(0.9950)\n",
      "tensor(0.0012) tensor(0.6430)\n"
     ]
    },
    {
     "data": {
      "image/png": "[encoded data removed]",
      "text/plain": [
       "<Figure size 2000x500 with 2 Axes>"
      ]
     },
     "metadata": {},
     "output_type": "display_data"
    }
   ],
   "source": [
    "x = torch.randn(1000, 10)\n",
    "w = torch.randn(10, 200) * 0.2\n",
    "y=x @ w\n",
    "print(x.mean(), x.std())\n",
    "print(y.mean(), y.std())\n",
    "plt.figure(figsize=(20,5))\n",
    "plt.subplot(121)\n",
    "plt.hist(x.view(-1).tolist(), 50, density=True);\n",
    "plt.subplot(122)\n",
    "_ = plt.hist(y.view(-1).tolist(), 50, density=True);"
   ]
  },
  {
   "cell_type": "markdown",
   "metadata": {},
   "source": [
    "the input is just a guassian, mean 0 and std of 1\n",
    "\n",
    "the std of y has increased to three\n",
    "\n",
    "```\n",
    "tensor(0.0124) tensor(0.9947) <- input\n",
    "tensor(-0.0070) tensor(3.1710) <- output\n",
    "```\n",
    "\n",
    "the output guassian has now expanded. \n",
    "\n",
    "we want most of the nn to have roughlt similar activations. so the question is, how do we scale the outputs to preserve the gaussian output?\n",
    "\n",
    "lets multiply the weights by five `w = torch.randn(10, 200) * 5`:\n",
    "\n",
    "```\n",
    "tensor(-0.0124) tensor(1.0053)\n",
    "tensor(0.0279) tensor(15.9336)\n",
    "```\n",
    "\n",
    "lets multiply the weights by five `w = torch.randn(10, 200) * 0.2`:\n",
    "\n",
    "```\n",
    "tensor(0.0022) tensor(0.9950)\n",
    "tensor(0.0012) tensor(0.6430)\n",
    "```\n",
    "\n",
    "how do we choose the number by which to scale the weights? for a simple linear layer, divide by a square root of fan in. when you do that, when you have a roughlt guassian input, out of this layer you will have a roughly gaussian output\n",
    "\n",
    "however, with non linearities, you need to compensate for the discarded part of the distribution, so you also need a gain (look into torch.nn.init). basically the formula for the scaling factor is gain/sqrt(fanin)\n",
    "\n",
    "so the initalization becomes:\n",
    "\n",
    "```\n",
    "g = torch.Generator().manual_seed(2147483647) # for reproducibility\n",
    "C  = torch.randn((vocab_size, n_embd),            generator=g)\n",
    "W1 = torch.randn((n_embd * block_size, n_hidden), generator=g) * 5/3 * (n_embd * block_size)**-0.5\n",
    "b1 = torch.randn(n_hidden,                        generator=g) * 0.01\n",
    "W2 = torch.randn((n_hidden, vocab_size),          generator=g) * 0.01\n",
    "b2 = torch.randn(vocab_size,                      generator=g) * 0\n",
    "```\n",
    "\n",
    "another way of normalizing the outputs of the layers is batchnorm. since we want hpreact to be roughy gaussian (not to big to avoide the dead space and not to small to avoid the linear part of tanh, which makes it inactive), we can simply take the pre activations for the entire batch and normalize them.\n",
    "\n",
    "however, we only want the preactivations to be normal gaussian at initialization. we want the neural net to be able to adjust the distribution as it sees fit, during backprop. so we include scale and shift parameters:\n",
    "```\n",
    "bngain = torch.ones(n_hidden)\n",
    "bnbias = torch.zeros(n_hidden)\n",
    "```\n",
    "\n",
    "the benefit of batchnorm is that for huge neural nets with many layers, settting the right innit scaling factors becomes intractable. you cannot set everything by hand. but with explicit form of normalization, batch norm, this will be done automatically. it is common to include batchnorm after layers with mutilipcations, such as linear or conv, to control the scale of activations without manual mathematics.\n",
    "\n",
    "in the following line in the training loop\n",
    "`hpreact = embcat @ W1 + b1 # hidden layer pre-activation` \n",
    "adding the bias here is not wasteful, because the bias is removed during batchnorm and added back as the learned bias\n",
    "\n",
    "summary of bn:\n",
    "\n",
    "we are using bn to control the statistics of activations in n\n",
    "\n",
    "common to sprinkle across the net affter layers wsith muls, like linear or cnn\n",
    "\n",
    "bnin terlly has params for agin anf bias, trained with badkporp\n",
    "\n",
    "it als has buffers, not trained, for running stats\n",
    "\n",
    "bn momentum:\n",
    "\n",
    "with small batch sizes, the stats might cvhange significantly from iteration to iteration. since the value is chaning aournd a lot, you dont want to take too much from any particular batch. instead, you want to have a large smooting, so the momentum should be kept to low. with large batch sizes, it might be safe to keep the momentum relativlely high.\n",
    "\n",
    "\n",
    "\n"
   ]
  },
  {
   "cell_type": "markdown",
   "metadata": {},
   "source": [
    "Batch Normalization: Benefits and Drawbacks\n",
    "Unexpected Stability at a Cost\n",
    "1. Batch normalization provides stability in neural networks, but at a significant cost.\n",
    "This cost involves a fundamental change in how neural networks process data.\n",
    "Traditional Neural Network Processing\n",
    "1. Originally, neural networks processed single examples deterministically.\n",
    "Batches were later introduced for training efficiency, but examples were still processed independently.\n",
    "The Batch Normalization Paradigm Shift\n",
    "1. Batch normalization couples examples within a batch mathematically.\n",
    "This coupling occurs in both forward and backward passes of the neural network.\n",
    "Impact on Network Activations\n",
    "Hidden state activations (H) and logits for any input example now depend on:\n",
    "The input example itself\n",
    "All other examples in the batch\n",
    "This leads to subtle changes or \"jittering\" in activations based on batch composition.\n",
    "Unexpected Benefits\n",
    "This \"jittering\" effect, initially seeming like a bug, turns out to be beneficial.\n",
    "It acts as a regularizer for the neural network.\n",
    "Regularization Mechanism\n",
    "The process effectively \"pads out\" input examples.\n",
    "Introduces entropy into the system.\n",
    "Acts as a form of data augmentation.\n",
    "Makes it harder for the neural network to overfit specific examples.\n",
    "Challenges in Removing Batch Normalization\n",
    "The regularization effect has made it difficult to eliminate batch normalization.\n",
    "No one likes the property of mathematically coupled examples in a batch.\n",
    "It can lead to strange results and bugs.\n",
    "Alternative Normalization Techniques\n",
    "Efforts to deprecate batch normalization in favor of other techniques that don't couple batch examples:\n",
    "Layer normalization\n",
    "Instance normalization\n",
    "Group normalization"
   ]
  },
  {
   "cell_type": "code",
   "execution_count": 96,
   "metadata": {},
   "outputs": [
    {
     "name": "stdout",
     "output_type": "stream",
     "text": [
      "train 2.0355966091156006\n",
      "val 2.102678060531616\n"
     ]
    }
   ],
   "source": [
    "@torch.no_grad() # this decorator disables gradient tracking\n",
    "def split_loss(split):\n",
    "  x,y = {\n",
    "    'train': (Xtr, Ytr),\n",
    "    'val': (Xval, Yval),\n",
    "    'test': (Xte, Yte),\n",
    "  }[split]\n",
    "  emb = C[x] # (N, block_size, n_embd)\n",
    "  x = emb.view(emb.shape[0], -1) # concat into (N, block_size * n_embd)\n",
    "  hpreact = x @ W1 + b1\n",
    "  h = torch.tanh(hpreact)\n",
    "  logits = h @ W2 + b2\n",
    "  loss = F.cross_entropy(logits, y)\n",
    "  print(split, loss.item())\n",
    "\n",
    "split_loss('train')\n",
    "split_loss('val')"
   ]
  },
  {
   "cell_type": "code",
   "execution_count": null,
   "metadata": {},
   "outputs": [],
   "source": [
    "g = torch.Generator().manual_seed(2147483647)\n",
    "\n",
    "class Linear:\n",
    "    def __init__(self, fan_in, fan_out, bias=True):\n",
    "        self.weight = torch.randn((fan_in, fan_out), generator=g) * (fan_in)**-0.5\n",
    "        self.bias = torch.randn((fan_out), generator=g) if bias else None\n",
    "\n",
    "    def __call__(self, x):\n",
    "        self.out = x @ self.weight\n",
    "        if self.bias is not None:\n",
    "            self.out += self.bias\n",
    "        return self.out\n",
    "    \n",
    "    def parameters(self):\n",
    "        return [self.weight] + ([] if self.bias is None else [self.bias])\n",
    "\n",
    "# batch norm\n",
    "# we are using batch norm to control the statistics of the activation in the nn. \n",
    "# bn is usually applied after layers with multiplications, such as FC linear or CNN layers.\n",
    "# bn has params for gain and bias, which are learnable parameters that scale and shift the output of the batch norm.\n",
    "class BatchNorm1d:\n",
    "    def __init__(self, dim, eps=1e-5, momentum=0.1):\n",
    "        self.eps = eps\n",
    "        self.momentum = momentum\n",
    "        self.training = True\n",
    "        self.gamma = torch.ones(dim)\n",
    "        self.beta = torch.zeros(dim)\n",
    "        self.running_mean = torch.zeros(dim)\n",
    "        self.running_var = torch.ones(dim)\n",
    "\n",
    "    def __call__(self, x):\n",
    "        if self.training:\n",
    "            xmean = x.mean(dim=0, keepdim=True)\n",
    "            xvar = x.var(dim=0, keepdim=True)\n",
    "        else:\n",
    "            xmean = self.running_mean\n",
    "            xvar = self.running_var\n",
    "        \n",
    "        self.out = (x - xmean) / (xvar + self.eps).sqrt()\n",
    "        self.out = self.out * self.gamma + self.beta\n",
    "\n",
    "        if self.training:\n",
    "            with torch.no_grad():\n",
    "                self.running_mean = self.running_mean * (1 - self.momentum) + xmean * self.momentum\n",
    "                self.running_var = self.running_var * (1 - self.momentum) + xvar * self.momentum\n",
    "        \n",
    "        return self.out\n",
    "\n",
    "    def parameters(self):\n",
    "        return [self.gamma, self.beta]\n",
    "\n",
    "class Tanh:\n",
    "    def __call__(self, x):\n",
    "        self.out = torch.tanh(x)\n",
    "        return self.out\n",
    "\n",
    "    def parameters(self):\n",
    "        return []\n",
    "\n",
    "n_embd = 10 # the dimensionality of the character embedding vectors\n",
    "n_hidden = 100 # the number of neurons in the hidden layer of the MLP\n",
    "g = torch.Generator().manual_seed(2147483647) # for reproducibility\n",
    "\n",
    "C = torch.randn((vocab_size, n_embd),            generator=g)\n",
    "layers = [\n",
    "  Linear(n_embd * block_size, n_hidden, bias=False), BatchNorm1d(n_hidden), Tanh(),\n",
    "  Linear(           n_hidden, n_hidden, bias=False), BatchNorm1d(n_hidden), Tanh(),\n",
    "  Linear(           n_hidden, n_hidden, bias=False), BatchNorm1d(n_hidden), Tanh(),\n",
    "  Linear(           n_hidden, n_hidden, bias=False), BatchNorm1d(n_hidden), Tanh(),\n",
    "  Linear(           n_hidden, n_hidden, bias=False), BatchNorm1d(n_hidden), Tanh(),\n",
    "  Linear(           n_hidden, vocab_size, bias=False), BatchNorm1d(vocab_size),\n",
    "]\n",
    "# layers = [\n",
    "#   Linear(n_embd * block_size, n_hidden), Tanh(),\n",
    "#   Linear(           n_hidden, n_hidden), Tanh(),\n",
    "#   Linear(           n_hidden, n_hidden), Tanh(),\n",
    "#   Linear(           n_hidden, n_hidden), Tanh(),\n",
    "#   Linear(           n_hidden, n_hidden), Tanh(),\n",
    "#   Linear(           n_hidden, vocab_size),\n",
    "# ]\n",
    "\n",
    "with torch.no_grad():\n",
    "  # last layer: make less confident\n",
    "  layers[-1].gamma *= 0.1\n",
    "  #layers[-1].weight *= 0.1\n",
    "  # all other layers: apply gain\n",
    "  for layer in layers[:-1]:\n",
    "    if isinstance(layer, Linear):\n",
    "      layer.weight *= 1.0 #5/3\n",
    "\n",
    "parameters = [C] + [p for layer in layers for p in layer.parameters()]\n",
    "print(sum(p.nelement() for p in parameters)) # number of parameters in total\n",
    "for p in parameters:\n",
    "  p.requires_grad = True"
   ]
  },
  {
   "cell_type": "code",
   "execution_count": null,
   "metadata": {},
   "outputs": [],
   "source": [
    "# same optimization as last time\n",
    "max_steps = 200000\n",
    "batch_size = 32\n",
    "lossi = []\n",
    "ud = []\n",
    "\n",
    "for i in range(max_steps):\n",
    "  \n",
    "  # minibatch construct\n",
    "  ix = torch.randint(0, Xtr.shape[0], (batch_size,), generator=g)\n",
    "  Xb, Yb = Xtr[ix], Ytr[ix] # batch X,Y\n",
    "  \n",
    "  # forward pass\n",
    "  emb = C[Xb] # embed the characters into vectors\n",
    "  x = emb.view(emb.shape[0], -1) # concatenate the vectors\n",
    "  for layer in layers:\n",
    "    x = layer(x)\n",
    "  loss = F.cross_entropy(x, Yb) # loss function\n",
    "  \n",
    "  # backward pass\n",
    "  for layer in layers:\n",
    "    layer.out.retain_grad() # AFTER_DEBUG: would take out retain_graph\n",
    "  for p in parameters:\n",
    "    p.grad = None\n",
    "  loss.backward()\n",
    "  \n",
    "  # update\n",
    "  lr = 0.1 if i < 150000 else 0.01 # step learning rate decay\n",
    "  for p in parameters:\n",
    "    p.data += -lr * p.grad\n",
    "\n",
    "  # track stats\n",
    "  if i % 10000 == 0: # print every once in a while\n",
    "    print(f'{i:7d}/{max_steps:7d}: {loss.item():.4f}')\n",
    "  lossi.append(loss.log10().item())\n",
    "  with torch.no_grad():\n",
    "    ud.append([((lr*p.grad).std() / p.data.std()).log10().item() for p in parameters])"
   ]
  },
  {
   "cell_type": "code",
   "execution_count": null,
   "metadata": {},
   "outputs": [],
   "source": [
    "# visualize historgams for the forward pass\n",
    "plt.figure(figsize=(20, 4)) # width and height of the plot\n",
    "legends = []\n",
    "for i, layer in enumerate(layers[:-1]): # note: exclude the output layer\n",
    "  if isinstance(layer, Tanh):\n",
    "    t = layer.out\n",
    "    print('layer %d (%10s): mean %+.2f, std %.2f, saturated: %.2f%%' % (i, layer.__class__.__name__, t.mean(), t.std(), (t.abs() > 0.97).float().mean()*100))\n",
    "    hy, hx = torch.histogram(t, density=True)\n",
    "    plt.plot(hx[:-1].detach(), hy.detach())\n",
    "    legends.append(f'layer {i} ({layer.__class__.__name__}')\n",
    "plt.legend(legends);\n",
    "plt.title('activation distribution')"
   ]
  },
  {
   "cell_type": "code",
   "execution_count": null,
   "metadata": {},
   "outputs": [],
   "source": [
    "# visualize histograms\n",
    "plt.figure(figsize=(20, 4)) # width and height of the plot\n",
    "legends = []\n",
    "for i, layer in enumerate(layers[:-1]): # note: exclude the output layer\n",
    "  if isinstance(layer, Tanh):\n",
    "    t = layer.out.grad\n",
    "    print('layer %d (%10s): mean %+f, std %e' % (i, layer.__class__.__name__, t.mean(), t.std()))\n",
    "    hy, hx = torch.histogram(t, density=True)\n",
    "    plt.plot(hx[:-1].detach(), hy.detach())\n",
    "    legends.append(f'layer {i} ({layer.__class__.__name__}')\n",
    "plt.legend(legends);\n",
    "plt.title('gradient distribution')"
   ]
  },
  {
   "cell_type": "code",
   "execution_count": null,
   "metadata": {},
   "outputs": [],
   "source": [
    "# visualize histograms\n",
    "plt.figure(figsize=(20, 4)) # width and height of the plot\n",
    "legends = []\n",
    "for i,p in enumerate(parameters):\n",
    "  t = p.grad\n",
    "  if p.ndim == 2:\n",
    "    print('weight %10s | mean %+f | std %e | grad:data ratio %e' % (tuple(p.shape), t.mean(), t.std(), t.std() / p.std()))\n",
    "    hy, hx = torch.histogram(t, density=True)\n",
    "    plt.plot(hx[:-1].detach(), hy.detach())\n",
    "    legends.append(f'{i} {tuple(p.shape)}')\n",
    "plt.legend(legends)\n",
    "plt.title('weights gradient distribution');"
   ]
  },
  {
   "cell_type": "code",
   "execution_count": null,
   "metadata": {},
   "outputs": [],
   "source": [
    "plt.figure(figsize=(20, 4))\n",
    "legends = []\n",
    "for i,p in enumerate(parameters):\n",
    "  if p.ndim == 2:\n",
    "    plt.plot([ud[j][i] for j in range(len(ud))])\n",
    "    legends.append('param %d' % i)\n",
    "plt.plot([0, len(ud)], [-3, -3], 'k') # these ratios should be ~1e-3, indicate on plot\n",
    "plt.legend(legends);"
   ]
  },
  {
   "cell_type": "code",
   "execution_count": null,
   "metadata": {},
   "outputs": [],
   "source": [
    "@torch.no_grad() # this decorator disables gradient tracking\n",
    "def split_loss(split):\n",
    "  x,y = {\n",
    "    'train': (Xtr, Ytr),\n",
    "    'val': (Xval, Yval),\n",
    "    'test': (Xte, Yte),\n",
    "  }[split]\n",
    "  emb = C[x] # (N, block_size, n_embd)\n",
    "  x = emb.view(emb.shape[0], -1) # concat into (N, block_size * n_embd)\n",
    "  for layer in layers:\n",
    "    x = layer(x)\n",
    "  loss = F.cross_entropy(x, y)\n",
    "  print(split, loss.item())\n",
    "\n",
    "# put layers into eval mode\n",
    "for layer in layers:\n",
    "  layer.training = False\n",
    "split_loss('train')\n",
    "split_loss('val')"
   ]
  },
  {
   "cell_type": "code",
   "execution_count": null,
   "metadata": {},
   "outputs": [],
   "source": [
    "# sample from the model\n",
    "g = torch.Generator().manual_seed(2147483647 + 10)\n",
    "\n",
    "for _ in range(20):\n",
    "    \n",
    "    out = []\n",
    "    context = [0] * block_size # initialize with all ...\n",
    "    while True:\n",
    "      # forward pass the neural net\n",
    "      emb = C[torch.tensor([context])] # (1,block_size,n_embd)\n",
    "      x = emb.view(emb.shape[0], -1) # concatenate the vectors\n",
    "      for layer in layers:\n",
    "        x = layer(x)\n",
    "      logits = x\n",
    "      probs = F.softmax(logits, dim=1)\n",
    "      # sample from the distribution\n",
    "      ix = torch.multinomial(probs, num_samples=1, generator=g).item()\n",
    "      # shift the context window and track the samples\n",
    "      context = context[1:] + [ix]\n",
    "      out.append(ix)\n",
    "      # if we sample the special '.' token, break\n",
    "      if ix == 0:\n",
    "        break\n",
    "    \n",
    "    print(''.join(decode(i) for i in out)) # decode and print the generated word"
   ]
  }
 ],
 "metadata": {
  "kernelspec": {
   "display_name": ".venv",
   "language": "python",
   "name": "python3"
  },
  "language_info": {
   "codemirror_mode": {
    "name": "ipython",
    "version": 3
   },
   "file_extension": ".py",
   "mimetype": "text/x-python",
   "name": "python",
   "nbconvert_exporter": "python",
   "pygments_lexer": "ipython3",
   "version": "3.11.9"
  }
 },
 "nbformat": 4,
 "nbformat_minor": 2
}
