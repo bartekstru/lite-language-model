{
 "cells": [
  {
   "cell_type": "code",
   "execution_count": 1,
   "metadata": {},
   "outputs": [],
   "source": [
    "import torch\n",
    "import torch.nn.functional as F\n",
    "import matplotlib.pyplot as plt\n",
    "import random\n",
    "import math\n",
    "%matplotlib inline"
   ]
  },
  {
   "cell_type": "code",
   "execution_count": 2,
   "metadata": {},
   "outputs": [],
   "source": [
    "g = torch.Generator().manual_seed(2147483647)"
   ]
  },
  {
   "cell_type": "code",
   "execution_count": 3,
   "metadata": {},
   "outputs": [],
   "source": [
    "words = open('names.txt', 'r').read().splitlines()"
   ]
  },
  {
   "cell_type": "code",
   "execution_count": 4,
   "metadata": {},
   "outputs": [],
   "source": [
    "chars = ['.'] + sorted(list(set(''.join(words))))\n",
    "encode = lambda c: chars.index(c)\n",
    "decode = lambda i: chars[i]"
   ]
  },
  {
   "cell_type": "code",
   "execution_count": 5,
   "metadata": {},
   "outputs": [],
   "source": [
    "block_size = 3\n",
    "vocab_size = len(chars)"
   ]
  },
  {
   "cell_type": "code",
   "execution_count": 6,
   "metadata": {},
   "outputs": [
    {
     "name": "stdout",
     "output_type": "stream",
     "text": [
      "torch.Size([182625, 3]) torch.Size([182625])\n",
      "torch.Size([22655, 3]) torch.Size([22655])\n",
      "torch.Size([22866, 3]) torch.Size([22866])\n"
     ]
    }
   ],
   "source": [
    "def build_dataset(words):\n",
    "    X, Y = [], []\n",
    "    for w in words:\n",
    "        context = [0] * block_size\n",
    "        for c in w + '.':\n",
    "            ix = encode(c)\n",
    "            X.append(context)\n",
    "            Y.append(ix)\n",
    "            context = context[1:] + [ix]\n",
    "\n",
    "    X = torch.tensor(X)\n",
    "    Y = torch.tensor(Y)\n",
    "    print(X.shape, Y.shape)\n",
    "    return X, Y\n",
    "\n",
    "random.seed(42)\n",
    "random.shuffle(words)\n",
    "n1 = int(0.8 * len(words))\n",
    "n2 = int(0.9 * len(words))\n",
    "\n",
    "Xtr, Ytr = build_dataset(words[:n1])\n",
    "Xval, Yval = build_dataset(words[n1:n2])\n",
    "Xte, Yte = build_dataset(words[n2:])"
   ]
  },
  {
   "cell_type": "code",
   "execution_count": 7,
   "metadata": {},
   "outputs": [],
   "source": [
    "def cmp(s, dt, t):\n",
    "    exact = torch.all(dt == t)\n",
    "    approx = torch.allclose(dt, t.grad)\n",
    "    max_diff = (torch.abs(dt - t.grad).abs().max().item())\n",
    "    print(f'{s:15s} exact: {str(exact):5s} approx: {str(approx):5s} max_diff: {max_diff}')\n"
   ]
  },
  {
   "cell_type": "code",
   "execution_count": 8,
   "metadata": {},
   "outputs": [
    {
     "name": "stdout",
     "output_type": "stream",
     "text": [
      "4137\n"
     ]
    }
   ],
   "source": [
    "n_embd = 10 # the dimensionality of the character embedding vectors\n",
    "n_hidden = 64 # the number of neurons in the hidden layer of the MLP\n",
    "\n",
    "g = torch.Generator().manual_seed(2147483647) # for reproducibility\n",
    "C  = torch.randn((vocab_size, n_embd),            generator=g)\n",
    "# Layer 1\n",
    "W1 = torch.randn((n_embd * block_size, n_hidden), generator=g) * (5/3)/((n_embd * block_size)**0.5)\n",
    "b1 = torch.randn(n_hidden,                        generator=g) * 0.1 # using b1 just for fun, it's useless because of BN\n",
    "# Layer 2\n",
    "W2 = torch.randn((n_hidden, vocab_size),          generator=g) * 0.1\n",
    "b2 = torch.randn(vocab_size,                      generator=g) * 0.1\n",
    "# BatchNorm parameters\n",
    "bngain = torch.randn((1, n_hidden))*0.1 + 1.0\n",
    "bnbias = torch.randn((1, n_hidden))*0.1\n",
    "\n",
    "# Note: I am initializating many of these parameters in non-standard ways\n",
    "# because sometimes initializating with e.g. all zeros could mask an incorrect\n",
    "# implementation of the backward pass. Because when everything is zero the\n",
    "# expression of gradient is simplified.\n",
    "\n",
    "parameters = [C, W1, b1, W2, b2, bngain, bnbias]\n",
    "print(sum(p.nelement() for p in parameters)) # number of parameters in total\n",
    "for p in parameters:\n",
    "  p.requires_grad = True"
   ]
  },
  {
   "cell_type": "code",
   "execution_count": 9,
   "metadata": {},
   "outputs": [
    {
     "name": "stdout",
     "output_type": "stream",
     "text": [
      "torch.Size([32, 3]) torch.Size([32])\n"
     ]
    }
   ],
   "source": [
    "batch_size = 32\n",
    "n = batch_size\n",
    "ix = torch.randint(0, Xtr.shape[0], (n,), generator=g)\n",
    "Xb, Yb = Xtr[ix], Ytr[ix]\n",
    "\n",
    "print(Xb.shape, Yb.shape)\n"
   ]
  },
  {
   "cell_type": "code",
   "execution_count": 76,
   "metadata": {},
   "outputs": [
    {
     "data": {
      "text/plain": [
       "tensor(3.4916, grad_fn=<NegBackward0>)"
      ]
     },
     "execution_count": 76,
     "metadata": {},
     "output_type": "execute_result"
    }
   ],
   "source": [
    "# embed the inputs\n",
    "emb = C[Xb] # (n, block_size, n_embd)\n",
    "embcat = emb.view(Xb.shape[0], -1) # (n, block_size * n_embd)\n",
    "# calxulate the linear layer outputs\n",
    "hprebn = embcat @ W1 + b1 # (n, n_hidden)\n",
    "# get the mean of the batch\n",
    "bnmeani = hprebn / hprebn.sum(dim=0, keepdim=True)\n",
    "# zero center the batch\n",
    "bndiff = hprebn - bnmeani\n",
    "# variance is the sum of the squared differences of examples in the batch from the mean, divided by n-1 (Bessel's correction, divide by n-1 instead of n to improve the estimate of the population variance)\n",
    "bndiff2 = bndiff**2\n",
    "bnvar = 1/(n-1) * bndiff2.sum(dim=0, keepdim=True)\n",
    "# standard deviation is the square root of the variance\n",
    "# get the inverse of the standard deviation summed with a small constant to avoid division by zero\n",
    "bnvar_inv = (bnvar + 1e-5)**-0.5\n",
    "# scale the centered batch by the inverse of the standard deviation\n",
    "bnraw = bndiff * bnvar_inv\n",
    "# apply learned gain and bias to the scaled batch\n",
    "hpreact = bngain * bnraw + bnbias\n",
    "# apply the tanh activation function\n",
    "h = torch.tanh(hpreact)\n",
    "# calculate the logits for the output layer\n",
    "logits = h @ W2 + b2\n",
    "# for numerical stability, subtract the maximum logit value in each row\n",
    "logit_maxes = logits.max(dim=1, keepdim=True).values\n",
    "norm_logits = logits - logit_maxes # for numerical stability\n",
    "counts = norm_logits.exp()\n",
    "counts_sum = counts.sum(dim=1, keepdim=True)\n",
    "counts_sum_inv = counts_sum ** -1\n",
    "probs = counts * counts_sum_inv\n",
    "logprobs = probs.log()\n",
    "loss = -logprobs[range(n), Yb].mean() # we first index by the barch index and then for that particular batch row we take the probability of the character oobserved in the dataset\n",
    "\n",
    "for p in parameters:\n",
    "    p.grad = None\n",
    "\n",
    "for t in reversed([emb, embcat, hprebn, bnmeani, bndiff, bndiff2, bnvar, bnvar_inv, bnraw, hpreact, h, logits, logit_maxes, norm_logits, counts, counts_sum, counts_sum_inv, probs, logprobs]):\n",
    "    t.retain_grad()\n",
    "\n",
    "loss.backward()\n",
    "\n",
    "loss\n"
   ]
  },
  {
   "cell_type": "code",
   "execution_count": 94,
   "metadata": {},
   "outputs": [],
   "source": [
    "dlogprobs = -1/n * F.one_hot(Yb, vocab_size) # 32 x 27\n",
    "dprobs = dlogprobs * (probs**-1)\n",
    "dcounts_sum_inv = dprobs[range(n), Yb].view((n,-1)) * counts[range(n), Yb].view((n,-1))\n",
    "dcounts_sum = dcounts_sum_inv * -1 * (counts_sum ** -2)\n",
    "dcounts = dprobs * counts_sum_inv + dcounts_sum\n",
    "dnorm_logits = dcounts * norm_logits.exp()\n",
    "dlogit_maxes = torch.zeros((n,1))\n",
    "dlogits = dnorm_logits\n",
    "dW2 = h.T @ dlogits\n",
    "db2 = dlogits.sum(dim=0)\n",
    "dh = dlogits @ W2.T\n",
    "dhpreact = dh * (1 - h**2)\n",
    "dbnraw = dhpreact * bngain\n",
    "dbngain = dhpreact\n",
    "dbnbias = dhpreact"
   ]
  },
  {
   "cell_type": "code",
   "execution_count": 95,
   "metadata": {},
   "outputs": [
    {
     "name": "stdout",
     "output_type": "stream",
     "text": [
      "dlogprobs       exact: tensor(False) approx: True  max_diff: 0.0\n",
      "dprobs          exact: tensor(False) approx: True  max_diff: 0.0\n",
      "dcounts_sum_inv exact: tensor(False) approx: True  max_diff: 0.0\n",
      "dcounts_sum     exact: tensor(False) approx: True  max_diff: 0.0\n",
      "dcounts         exact: tensor(False) approx: True  max_diff: 0.0\n",
      "dnorm_logits    exact: tensor(False) approx: True  max_diff: 0.0\n",
      "dlogits_maxes   exact: tensor(False) approx: True  max_diff: 5.122274160385132e-09\n",
      "dlogits         exact: tensor(False) approx: True  max_diff: 5.122274160385132e-09\n",
      "dW2             exact: tensor(False) approx: True  max_diff: 7.450580596923828e-09\n",
      "db2             exact: tensor(False) approx: True  max_diff: 7.450580596923828e-09\n",
      "dh              exact: tensor(False) approx: True  max_diff: 1.3969838619232178e-09\n",
      "dhpreact        exact: tensor(False) approx: True  max_diff: 1.3969838619232178e-09\n",
      "dbnraw          exact: tensor(False) approx: True  max_diff: 1.3969838619232178e-09\n",
      "dbngain         exact: tensor(False) approx: False max_diff: 0.02962179109454155\n",
      "dbnbias         exact: tensor(False) approx: False max_diff: 0.04207389056682587\n"
     ]
    }
   ],
   "source": [
    "cmp(\"dlogprobs\", dlogprobs, logprobs)\n",
    "cmp(\"dprobs\", dprobs, probs)\n",
    "cmp(\"dcounts_sum_inv\", dcounts_sum_inv, counts_sum_inv)\n",
    "cmp(\"dcounts_sum\", dcounts_sum, counts_sum)\n",
    "cmp(\"dcounts\", dcounts, counts)\n",
    "cmp(\"dnorm_logits\", dnorm_logits, norm_logits)\n",
    "cmp(\"dlogits_maxes\", dlogit_maxes, logit_maxes)\n",
    "cmp(\"dlogits\", dlogits, logits)\n",
    "cmp(\"dW2\", dW2, W2)\n",
    "cmp(\"db2\", db2, b2)\n",
    "cmp(\"dh\", dh, h)\n",
    "cmp(\"dhpreact\", dhpreact, hpreact)\n",
    "cmp(\"dbnraw\", dbnraw, bnraw)\n",
    "cmp(\"dbngain\", dbngain, bngain)\n",
    "cmp(\"dbnbias\", dbnbias, bnbias)"
   ]
  }
 ],
 "metadata": {
  "kernelspec": {
   "display_name": ".venv",
   "language": "python",
   "name": "python3"
  },
  "language_info": {
   "codemirror_mode": {
    "name": "ipython",
    "version": 3
   },
   "file_extension": ".py",
   "mimetype": "text/x-python",
   "name": "python",
   "nbconvert_exporter": "python",
   "pygments_lexer": "ipython3",
   "version": "3.11.9"
  }
 },
 "nbformat": 4,
 "nbformat_minor": 2
}
