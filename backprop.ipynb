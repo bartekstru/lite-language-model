{
 "cells": [
  {
   "cell_type": "code",
   "execution_count": 2,
   "metadata": {},
   "outputs": [],
   "source": [
    "import torch\n",
    "import torch.nn.functional as F\n",
    "import matplotlib.pyplot as plt\n",
    "import random\n",
    "import math\n",
    "%matplotlib inline"
   ]
  },
  {
   "cell_type": "code",
   "execution_count": 3,
   "metadata": {},
   "outputs": [],
   "source": [
    "g = torch.Generator().manual_seed(2147483647)"
   ]
  },
  {
   "cell_type": "code",
   "execution_count": 4,
   "metadata": {},
   "outputs": [],
   "source": [
    "words = open('names.txt', 'r').read().splitlines()"
   ]
  },
  {
   "cell_type": "code",
   "execution_count": 5,
   "metadata": {},
   "outputs": [],
   "source": [
    "chars = ['.'] + sorted(list(set(''.join(words))))\n",
    "encode = lambda c: chars.index(c)\n",
    "decode = lambda i: chars[i]"
   ]
  },
  {
   "cell_type": "code",
   "execution_count": 6,
   "metadata": {},
   "outputs": [],
   "source": [
    "block_size = 3\n",
    "vocab_size = len(chars)"
   ]
  },
  {
   "cell_type": "code",
   "execution_count": 7,
   "metadata": {},
   "outputs": [
    {
     "name": "stdout",
     "output_type": "stream",
     "text": [
      "torch.Size([182625, 3]) torch.Size([182625])\n",
      "torch.Size([22655, 3]) torch.Size([22655])\n",
      "torch.Size([22866, 3]) torch.Size([22866])\n"
     ]
    }
   ],
   "source": [
    "def build_dataset(words):\n",
    "    X, Y = [], []\n",
    "    for w in words:\n",
    "        context = [0] * block_size\n",
    "        for c in w + '.':\n",
    "            ix = encode(c)\n",
    "            X.append(context)\n",
    "            Y.append(ix)\n",
    "            context = context[1:] + [ix]\n",
    "\n",
    "    X = torch.tensor(X)\n",
    "    Y = torch.tensor(Y)\n",
    "    print(X.shape, Y.shape)\n",
    "    return X, Y\n",
    "\n",
    "random.seed(42)\n",
    "random.shuffle(words)\n",
    "n1 = int(0.8 * len(words))\n",
    "n2 = int(0.9 * len(words))\n",
    "\n",
    "Xtr, Ytr = build_dataset(words[:n1])\n",
    "Xval, Yval = build_dataset(words[n1:n2])\n",
    "Xte, Yte = build_dataset(words[n2:])"
   ]
  },
  {
   "cell_type": "code",
   "execution_count": 8,
   "metadata": {},
   "outputs": [],
   "source": [
    "def cmp(s, dt, t):\n",
    "    exact = torch.all(dt == t.grad).item()\n",
    "    approx = torch.allclose(dt, t.grad)\n",
    "    max_diff = (torch.abs(dt - t.grad).abs().max().item())\n",
    "    print(f'{s:15s} exact: {str(exact):5s} approx: {str(approx):5s} max_diff: {max_diff}')\n"
   ]
  },
  {
   "cell_type": "code",
   "execution_count": 9,
   "metadata": {},
   "outputs": [
    {
     "name": "stdout",
     "output_type": "stream",
     "text": [
      "4137\n"
     ]
    }
   ],
   "source": [
    "n_embd = 10 # the dimensionality of the character embedding vectors\n",
    "n_hidden = 64 # the number of neurons in the hidden layer of the MLP\n",
    "\n",
    "g = torch.Generator().manual_seed(2147483647) # for reproducibility\n",
    "C  = torch.randn((vocab_size, n_embd),            generator=g)\n",
    "# Layer 1\n",
    "W1 = torch.randn((n_embd * block_size, n_hidden), generator=g) * (5/3)/((n_embd * block_size)**0.5)\n",
    "b1 = torch.randn(n_hidden,                        generator=g) * 0.1 # using b1 just for fun, it's useless because of BN\n",
    "# Layer 2\n",
    "W2 = torch.randn((n_hidden, vocab_size),          generator=g) * 0.1\n",
    "b2 = torch.randn(vocab_size,                      generator=g) * 0.1\n",
    "# BatchNorm parameters\n",
    "bngain = torch.randn((1, n_hidden))*0.1 + 1.0\n",
    "bnbias = torch.randn((1, n_hidden))*0.1\n",
    "\n",
    "# Note: I am initializating many of these parameters in non-standard ways\n",
    "# because sometimes initializating with e.g. all zeros could mask an incorrect\n",
    "# implementation of the backward pass. Because when everything is zero the\n",
    "# expression of gradient is simplified.\n",
    "\n",
    "parameters = [C, W1, b1, W2, b2, bngain, bnbias]\n",
    "print(sum(p.nelement() for p in parameters)) # number of parameters in total\n",
    "for p in parameters:\n",
    "  p.requires_grad = True"
   ]
  },
  {
   "cell_type": "code",
   "execution_count": 10,
   "metadata": {},
   "outputs": [
    {
     "name": "stdout",
     "output_type": "stream",
     "text": [
      "torch.Size([32, 3]) torch.Size([32])\n"
     ]
    }
   ],
   "source": [
    "batch_size = 32\n",
    "n = batch_size\n",
    "ix = torch.randint(0, Xtr.shape[0], (n,), generator=g)\n",
    "Xb, Yb = Xtr[ix], Ytr[ix]\n",
    "\n",
    "print(Xb.shape, Yb.shape)"
   ]
  },
  {
   "cell_type": "code",
   "execution_count": 16,
   "metadata": {},
   "outputs": [
    {
     "data": {
      "text/plain": [
       "tensor(3.3276, grad_fn=<NegBackward0>)"
      ]
     },
     "execution_count": 16,
     "metadata": {},
     "output_type": "execute_result"
    }
   ],
   "source": [
    "emb = C[Xb] # embed the characters into vectors\n",
    "embcat = emb.view(emb.shape[0], -1) # concatenate the vectors\n",
    "# Linear layer 1\n",
    "hprebn = embcat @ W1 + b1 # hidden layer pre-activation\n",
    "# BatchNorm layer\n",
    "bnmeani = 1/n*hprebn.sum(0, keepdim=True)\n",
    "# zero center the batch\n",
    "bndiff = hprebn - bnmeani\n",
    "# variance is the sum of the squared differences of examples in the batch from the mean, divided by n-1 (Bessel's correction, divide by n-1 instead of n to improve the estimate of the population variance)\n",
    "bndiff2 = bndiff**2\n",
    "bnvar = 1/(n-1) * bndiff2.sum(dim=0, keepdim=True)\n",
    "# standard deviation is the square root of the variance\n",
    "# get the inverse of the standard deviation summed with a small constant to avoid division by zero\n",
    "bnvar_inv = (bnvar + 1e-5)**-0.5\n",
    "# scale the centered batch by the inverse of the standard deviation\n",
    "bnraw = bndiff * bnvar_inv\n",
    "# apply learned gain and bias to the scaled batch\n",
    "hpreact = bngain * bnraw + bnbias\n",
    "# apply the tanh activation function\n",
    "h = torch.tanh(hpreact)\n",
    "# calculate the logits for the output layer\n",
    "logits = h @ W2 + b2\n",
    "# for numerical stability, subtract the maximum logit value in each row\n",
    "logit_maxes = logits.max(dim=1, keepdim=True).values\n",
    "norm_logits = logits - logit_maxes # for numerical stability\n",
    "counts = norm_logits.exp()\n",
    "counts_sum = counts.sum(dim=1, keepdim=True)\n",
    "counts_sum_inv = counts_sum ** -1\n",
    "probs = counts * counts_sum_inv\n",
    "logprobs = probs.log()\n",
    "loss = -logprobs[range(n), Yb].mean() # we first index by the barch index and then for that particular batch row we take the probability of the character oobserved in the dataset = F.one_hot(Yb, vocab_size) * -1.0/n # n * vocab_size\n",
    "for p in parameters:\n",
    "    p.grad = None\n",
    "\n",
    "for t in reversed([emb, embcat,hprebn, bnmeani, bndiff, bndiff2, bnvar, bnvar_inv, bnraw, hpreact, h, logits, logit_maxes, norm_logits, counts, counts_sum, counts_sum_inv, probs, logprobs]):\n",
    "    t.retain_grad()\n",
    "\n",
    "loss.backward()\n",
    "\n",
    "loss\n"
   ]
  },
  {
   "cell_type": "code",
   "execution_count": 65,
   "metadata": {},
   "outputs": [
    {
     "name": "stdout",
     "output_type": "stream",
     "text": [
      "C               exact: True  approx: True  max_diff: 0.0\n"
     ]
    }
   ],
   "source": []
  },
  {
   "cell_type": "code",
   "execution_count": 62,
   "metadata": {},
   "outputs": [
    {
     "data": {
      "text/plain": [
       "torch.Size([32, 3])"
      ]
     },
     "execution_count": 62,
     "metadata": {},
     "output_type": "execute_result"
    }
   ],
   "source": [
    "X_flatten.shape\n"
   ]
  },
  {
   "cell_type": "code",
   "execution_count": 66,
   "metadata": {},
   "outputs": [
    {
     "name": "stdout",
     "output_type": "stream",
     "text": [
      "logprobs        exact: True  approx: True  max_diff: 0.0\n",
      "probs           exact: True  approx: True  max_diff: 0.0\n",
      "counts_sum_inv  exact: True  approx: True  max_diff: 0.0\n",
      "counts_sum      exact: True  approx: True  max_diff: 0.0\n",
      "counts          exact: True  approx: True  max_diff: 0.0\n",
      "norm_logits     exact: True  approx: True  max_diff: 0.0\n",
      "logit_maxes     exact: True  approx: True  max_diff: 0.0\n",
      "logits          exact: True  approx: True  max_diff: 0.0\n",
      "h               exact: True  approx: True  max_diff: 0.0\n",
      "W2              exact: True  approx: True  max_diff: 0.0\n",
      "b2              exact: True  approx: True  max_diff: 0.0\n",
      "hpreact         exact: True  approx: True  max_diff: 0.0\n",
      "bngain          exact: True  approx: True  max_diff: 0.0\n",
      "bnraw           exact: True  approx: True  max_diff: 0.0\n",
      "dbnbias         exact: True  approx: True  max_diff: 0.0\n",
      "dbnvar_inv      exact: True  approx: True  max_diff: 0.0\n",
      "dbnvar          exact: True  approx: True  max_diff: 0.0\n",
      "dbndiff2        exact: True  approx: True  max_diff: 0.0\n",
      "dbndiff         exact: True  approx: True  max_diff: 0.0\n",
      "dbnmeani        exact: True  approx: True  max_diff: 0.0\n",
      "dhprebn         exact: True  approx: True  max_diff: 0.0\n",
      "dembcat         exact: True  approx: True  max_diff: 0.0\n",
      "dW1             exact: True  approx: True  max_diff: 0.0\n",
      "db1             exact: True  approx: True  max_diff: 0.0\n",
      "demb            exact: True  approx: True  max_diff: 0.0\n",
      "C               exact: True  approx: True  max_diff: 0.0\n"
     ]
    }
   ],
   "source": [
    "dlogprobs = F.one_hot(Yb, vocab_size) * -1.0/n                                  # n * vocab_size\n",
    "dprobs = dlogprobs * (1.0/probs)                                                # n * vocab_size\n",
    "dcounts = dprobs * counts_sum_inv                                               # n * vocab_size\n",
    "dcounts_sum_inv = (dprobs * counts).sum(1, keepdim=True)                        # n * 1\n",
    "dcounts_sum = dcounts_sum_inv * -1 * (counts_sum ** -2)                         # n * 1\n",
    "dcounts += torch.ones_like(counts) * dcounts_sum                                # n * vocab_size\n",
    "dnorm_logits = dcounts * counts                                                 # n * vocab_size\n",
    "dlogits = dnorm_logits.clone()                                                  # n * vocab_size    \n",
    "dlogit_maxes = - dnorm_logits.sum(1, keepdim=True)                              # n * 1\n",
    "dlogits  += dlogit_maxes * F.one_hot(logits.max(dim=1).indices, vocab_size)     # n * vocab_size\n",
    "dh = dlogits @ W2.T                                                             # n * n_hidden\n",
    "dW2 = h.T @ dlogits                                                             # n_hidden * vocab_size\n",
    "db2 = dlogits.sum(0)                                                            # vocab_size\n",
    "dhpreact = (1.0 - h**2) * dh                                                    # n * n_hidden\n",
    "dbngain = (dhpreact * bnraw).sum(0, keepdim=True)                               # 1 * n_hidden\n",
    "dbnraw = dhpreact * bngain                                                      # n * n_hidden\n",
    "dbnbias = dhpreact.sum(0, keepdim=True)                                         # 1 * n_hidden           \n",
    "dbndiff = dbnraw * bnvar_inv                                                    # n * n_hidden\n",
    "dbnvar_inv = (dbnraw * bndiff).sum(0, keepdim=True)                             # 1 * n_hidden\n",
    "dbnvar = (-0.5*(bnvar + 1e-5)**-1.5) * dbnvar_inv                               # 1 * n_hidden\n",
    "dbndiff2 = torch.ones_like(bndiff2) * (1.0/(n-1)) * dbnvar                      # n * n_hidden\n",
    "dbndiff += dbndiff2 * 2 * bndiff                                                # n * n_hidden\n",
    "dhprebn = dbndiff.clone()                                                       # n * n_hidden                             \n",
    "dbnmeani = (-dbndiff).sum(0)                                                    # 1 * n_hidden\n",
    "dhprebn += (1/n) * torch.ones_like(hprebn) * dbnmeani                           # n * n_hidden\n",
    "dembcat = dhprebn @ W1.T                                                        # n * (n_embd * block_size)\n",
    "dW1 = embcat.T @ dhprebn                                                        # (n_embd * block_size) * n_hidden\n",
    "db1 = dhprebn.sum(0)                                                            # n_hidden\n",
    "demb = dembcat.view(emb.shape)                                                  # n * (block_size * n_embd)\n",
    "\n",
    "X_flatten = Xb.view(-1) \n",
    "demb_flatten = demb.view(-1, n_embd)\n",
    "dC = torch.zeros_like(C)\n",
    "dC.index_add_(0, X_flatten, demb_flatten)                                       # vocab_size * n_embd\n",
    "\n",
    "cmp('logprobs', dlogprobs, logprobs)\n",
    "cmp('probs', dprobs, probs)\n",
    "cmp('counts_sum_inv', dcounts_sum_inv, counts_sum_inv)\n",
    "cmp('counts_sum', dcounts_sum, counts_sum)\n",
    "cmp('counts', dcounts, counts)\n",
    "cmp('norm_logits', dnorm_logits, norm_logits)\n",
    "cmp('logit_maxes', dlogit_maxes, logit_maxes)\n",
    "cmp('logits', dlogits, logits)\n",
    "cmp('h', dh, h)\n",
    "cmp('W2', dW2, W2)\n",
    "cmp('b2', db2, b2)\n",
    "cmp('hpreact', dhpreact, hpreact)\n",
    "cmp('bngain', dbngain, bngain)\n",
    "cmp('bnraw', dbnraw, bnraw)\n",
    "cmp('dbnbias', dbnbias, bnbias)\n",
    "cmp('dbnvar_inv', dbnvar_inv, bnvar_inv)\n",
    "cmp('dbnvar', dbnvar, bnvar)\n",
    "cmp('dbndiff2', dbndiff2, bndiff2)\n",
    "cmp('dbndiff', dbndiff, bndiff)\n",
    "cmp('dbnmeani', dbnmeani, bnmeani)\n",
    "cmp('dhprebn', dhprebn, hprebn)\n",
    "cmp('dembcat', dembcat, embcat)\n",
    "cmp('dW1', dW1, W1)\n",
    "cmp('db1', db1, b1)\n",
    "cmp('demb', demb, emb)\n",
    "cmp('C', dC, C)"
   ]
  }
 ],
 "metadata": {
  "kernelspec": {
   "display_name": ".venv",
   "language": "python",
   "name": "python3"
  },
  "language_info": {
   "codemirror_mode": {
    "name": "ipython",
    "version": 3
   },
   "file_extension": ".py",
   "mimetype": "text/x-python",
   "name": "python",
   "nbconvert_exporter": "python",
   "pygments_lexer": "ipython3",
   "version": "3.11.9"
  }
 },
 "nbformat": 4,
 "nbformat_minor": 2
}
