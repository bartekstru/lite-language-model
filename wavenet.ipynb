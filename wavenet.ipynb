{
 "cells": [
  {
   "cell_type": "code",
   "execution_count": 1,
   "metadata": {},
   "outputs": [],
   "source": [
    "import torch\n",
    "import torch.nn.functional as F\n",
    "import matplotlib.pyplot as plt\n",
    "import random\n",
    "import math\n",
    "%matplotlib inline"
   ]
  },
  {
   "cell_type": "code",
   "execution_count": 2,
   "metadata": {},
   "outputs": [],
   "source": [
    "torch.manual_seed(42);"
   ]
  },
  {
   "cell_type": "code",
   "execution_count": 3,
   "metadata": {},
   "outputs": [],
   "source": [
    "words = open('names.txt', 'r').read().splitlines()\n",
    "random.seed(42)\n",
    "random.shuffle(words)"
   ]
  },
  {
   "cell_type": "code",
   "execution_count": 4,
   "metadata": {},
   "outputs": [],
   "source": [
    "chars = ['.'] + sorted(list(set(''.join(words))))\n",
    "encode = lambda c: chars.index(c)\n",
    "decode = lambda i: chars[i]"
   ]
  },
  {
   "cell_type": "code",
   "execution_count": 5,
   "metadata": {},
   "outputs": [],
   "source": [
    "vocab_size = len(chars)"
   ]
  },
  {
   "cell_type": "code",
   "execution_count": 6,
   "metadata": {},
   "outputs": [
    {
     "name": "stdout",
     "output_type": "stream",
     "text": [
      "Xtr: torch.Size([182516, 3]), Ytr: torch.Size([182516])\n",
      "Xval: torch.Size([22815, 3]), Yval: torch.Size([22815])\n",
      "Xte: torch.Size([22815, 3]), Yte: torch.Size([22815])\n"
     ]
    }
   ],
   "source": [
    "def build_dataset(words, context_len = 3):\n",
    "    X, Y = [], []\n",
    "    for w in words:\n",
    "        context = [0] * context_len\n",
    "        for c in w + '.':\n",
    "            ix = encode(c)\n",
    "            X.append(context)\n",
    "            Y.append(ix)\n",
    "            context = context[1:] + [ix]\n",
    "\n",
    "    n1 = int(0.8 * len(X))\n",
    "    n2 = int(0.9 * len(X))\n",
    "\n",
    "    Xtr, Ytr = torch.tensor(X[:n1]), torch.tensor(Y[:n1])\n",
    "    Xval, Yval = torch.tensor(X[n1:n2]), torch.tensor(Y[n1:n2])\n",
    "    Xte, Yte = torch.tensor(X[n2:]), torch.tensor(Y[n2:])\n",
    "\n",
    "    print(f\"Xtr: {Xtr.shape}, Ytr: {Ytr.shape}\")\n",
    "    print(f\"Xval: {Xval.shape}, Yval: {Yval.shape}\")\n",
    "    print(f\"Xte: {Xte.shape}, Yte: {Yte.shape}\")\n",
    "\n",
    "    return {\"train\": (Xtr, Ytr), \"val\": (Xval, Yval), \"test\": (Xte, Yte)}\n",
    "\n",
    "datasets = build_dataset(words)\n",
    "Xtr, Ytr = datasets[\"train\"]\n",
    "Xval, Yval = datasets[\"val\"]\n",
    "Xte, Yte = datasets[\"test\"]\n"
   ]
  },
  {
   "cell_type": "code",
   "execution_count": 7,
   "metadata": {},
   "outputs": [
    {
     "name": "stdout",
     "output_type": "stream",
     "text": [
      "... -----> y\n",
      "..y -----> u\n",
      ".yu -----> h\n",
      "yuh -----> e\n",
      "uhe -----> n\n",
      "hen -----> g\n",
      "eng -----> .\n",
      "... -----> d\n",
      "..d -----> i\n",
      ".di -----> o\n",
      "dio -----> n\n",
      "ion -----> d\n",
      "ond -----> r\n",
      "ndr -----> e\n",
      "dre -----> .\n",
      "... -----> x\n",
      "..x -----> a\n",
      ".xa -----> v\n",
      "xav -----> i\n",
      "avi -----> e\n"
     ]
    }
   ],
   "source": [
    "for x,y in zip(Xtr[:20], Ytr[:20]):\n",
    "    print(''.join(decode(x_i.item()) for x_i in x), '----->', decode(y.item()))\n"
   ]
  },
  {
   "cell_type": "code",
   "execution_count": 58,
   "metadata": {},
   "outputs": [],
   "source": [
    "class Embedding:\n",
    "    def __init__(self, embedding_num, embedding_dim) -> None:\n",
    "        self.embeddings = torch.randn((embedding_num, embedding_dim))\n",
    "\n",
    "    def __call__(self, x):\n",
    "        self.out = self.embeddings[x]\n",
    "        return self.out\n",
    "    \n",
    "    def parameters(self):\n",
    "        return [self.embeddings]\n",
    "    \n",
    "class Flatten:\n",
    "    def __call__(self, x):\n",
    "        self.out = x.view(x.shape[0], -1)\n",
    "        return self.out\n",
    "    \n",
    "    def parameters(self):\n",
    "        return []\n",
    "\n",
    "class Linear:\n",
    "    def __init__(self, fan_in, fan_out, bias=True):\n",
    "        self.weight = torch.randn((fan_in, fan_out)) / (fan_in)**0.5\n",
    "        self.bias = torch.zeros((fan_out)) if bias else None\n",
    "\n",
    "    def __call__(self, x):\n",
    "        self.out = x @ self.weight\n",
    "        if self.bias is not None:\n",
    "            self.out += self.bias\n",
    "        return self.out\n",
    "    \n",
    "    def parameters(self):\n",
    "        return [self.weight] + ([] if self.bias is None else [self.bias])\n",
    "\n",
    "\n",
    "class BatchNorm1d:\n",
    "    def __init__(self, dim, eps=1e-5, momentum=0.1):\n",
    "        self.eps = eps\n",
    "        self.momentum = momentum\n",
    "        self.training = True\n",
    "        # parameters for batch norm\n",
    "        self.gamma = torch.ones(dim)\n",
    "        self.beta = torch.zeros(dim)\n",
    "        # buffers trained with a running momentum update\n",
    "        self.running_mean = torch.zeros(dim)\n",
    "        self.running_var = torch.ones(dim)\n",
    "\n",
    "    def __call__(self, x):\n",
    "        if self.training:\n",
    "            xmean = x.mean(dim=0, keepdim=True)\n",
    "            xvar = x.var(dim=0, keepdim=True)\n",
    "        else:\n",
    "            xmean = self.running_mean\n",
    "            xvar = self.running_var\n",
    "        \n",
    "        self.out = (x - xmean) / (xvar + self.eps).sqrt()\n",
    "        self.out = self.out * self.gamma + self.beta\n",
    "\n",
    "        if self.training:\n",
    "            with torch.no_grad():\n",
    "                self.running_mean = self.running_mean * (1 - self.momentum) + xmean * self.momentum\n",
    "                self.running_var = self.running_var * (1 - self.momentum) + xvar * self.momentum\n",
    "        \n",
    "        return self.out\n",
    "\n",
    "    def parameters(self):\n",
    "        return [self.gamma, self.beta]\n",
    "\n",
    "class Tanh:\n",
    "    def __call__(self, x):\n",
    "        self.out = torch.tanh(x)\n",
    "        return self.out\n",
    "\n",
    "    def parameters(self):\n",
    "        return []\n",
    "    \n",
    "class Sequential:\n",
    "    def __init__(self, layers) -> None:\n",
    "        self.layers = layers\n",
    "\n",
    "    def __call__(self, x):\n",
    "        for layer in self.layers:\n",
    "            x = layer(x)\n",
    "        return x\n",
    "    def parameters(self):\n",
    "        return [p for layer in self.layers for p in layer.parameters()]"
   ]
  },
  {
   "cell_type": "code",
   "execution_count": 19,
   "metadata": {},
   "outputs": [],
   "source": [
    "n_embd = 10 # the dimensionality of the character embedding vectors\n",
    "n_hidden = 200 # the number of neurons in the hidden layer of the MLP\n",
    "\n",
    "def initialize_model(n_layers = 6, tanh = True, bn = False, bnOutput = False, output_scale = 0.1, hidden_gain = 5/3, n_embd = 10, n_hidden = 200, block_size = 3):\n",
    "    layers = [Embedding(vocab_size, n_embd), Flatten()]\n",
    "\n",
    "    for i in range(n_layers):\n",
    "        if i == 0:\n",
    "            layers.append(Linear(n_embd * block_size, n_hidden, bias=not bn))\n",
    "        elif i == n_layers - 1:\n",
    "            layers.append(Linear(n_hidden, vocab_size, bias=not bnOutput))\n",
    "        else:\n",
    "            layers.append(Linear(n_hidden, n_hidden, bias=not bn))\n",
    "\n",
    "        if bn and i < n_layers - 1:\n",
    "            layers.append(BatchNorm1d(n_hidden))\n",
    "        if tanh and i < n_layers - 1:\n",
    "            layers.append(Tanh())\n",
    "\n",
    "    if bnOutput:\n",
    "        layers.append(BatchNorm1d(vocab_size))\n",
    "\n",
    "    with torch.no_grad():\n",
    "        # last layer: make less confident\n",
    "        if bnOutput:\n",
    "            layers[-1].gamma *= output_scale\n",
    "        else:\n",
    "            layers[-1].weight *= output_scale\n",
    "        # all other layers: apply gain\n",
    "        for layer in layers[:-1]:\n",
    "            if isinstance(layer, Linear):\n",
    "                layer.weight *= hidden_gain\n",
    "\n",
    "    model = Sequential(layers)\n",
    "    parameters = model.parameters()\n",
    "    print(sum(p.nelement() for p in parameters)) # number of parameters in total\n",
    "    for p in parameters:\n",
    "        p.requires_grad = True\n",
    "\n",
    "    return model"
   ]
  },
  {
   "cell_type": "code",
   "execution_count": 20,
   "metadata": {},
   "outputs": [],
   "source": [
    "def disable_training(model):\n",
    "  for layer in model.layers:\n",
    "    layer.training = False\n",
    "\n",
    "def enable_training(model):\n",
    "  for layer in model.layers:\n",
    "    layer.training = True"
   ]
  },
  {
   "cell_type": "code",
   "execution_count": 21,
   "metadata": {},
   "outputs": [],
   "source": [
    "def train(model, Xtr, Ytr, breakpoint = math.inf, lr=0.1, max_steps=200000, batch_size=32):\n",
    "  enable_training(model)\n",
    "  lossi = []\n",
    "\n",
    "  for i in range(max_steps):\n",
    "    # minibatch construct\n",
    "    ix = torch.randint(0, Xtr.shape[0], (batch_size,))\n",
    "    Xb, Yb = Xtr[ix], Ytr[ix] # batch X,Y\n",
    "    \n",
    "    logits = model(Xb)\n",
    "    loss = F.cross_entropy(logits, Yb) # loss function\n",
    "    \n",
    "    # backward pass\n",
    "    for p in model.parameters():\n",
    "      p.grad = None\n",
    "      \n",
    "    loss.backward()\n",
    "    \n",
    "    # update\n",
    "    learning_rate = lr if i < 150000 else lr/10 # step learning rate decay\n",
    "    for p in model.parameters():\n",
    "      p.data += -learning_rate * p.grad\n",
    "\n",
    "    # track stats\n",
    "    if i % 10000 == 0: # print every once in a while\n",
    "      print(f'{i:7d}/{max_steps:7d}: {loss.item():.4f}')\n",
    "\n",
    "    lossi.append(loss.log10().item())\n",
    "\n",
    "    if breakpoint == i:\n",
    "      break\n",
    "  return lossi"
   ]
  },
  {
   "cell_type": "code",
   "execution_count": 22,
   "metadata": {},
   "outputs": [],
   "source": [
    "@torch.no_grad() # this decorator disables gradient tracking\n",
    "def split_loss(model,split,datasets):\n",
    "  disable_training(model)\n",
    "  x,y = datasets[split]\n",
    "  logits = model(x)\n",
    "  loss = F.cross_entropy(logits, y)\n",
    "  print(split, loss.item())"
   ]
  },
  {
   "cell_type": "code",
   "execution_count": 23,
   "metadata": {},
   "outputs": [],
   "source": [
    "def generate(model, block_size):\n",
    "    disable_training(model)\n",
    "    out = []\n",
    "    context = [0] * block_size # initialize with all ...\n",
    "    while True:\n",
    "      logits = model(torch.tensor([context]))\n",
    "      probs = F.softmax(logits, dim=1)\n",
    "      # sample from the distribution\n",
    "      ix = torch.multinomial(probs, num_samples=1).item()\n",
    "      # shift the context window and track the samples\n",
    "      context = context[1:] + [ix]\n",
    "      out.append(ix)\n",
    "      # if we sample the special '.' token, break\n",
    "      if ix == 0:\n",
    "        break\n",
    "    \n",
    "    print(''.join(decode(i) for i in out)) # decode and print the generated word"
   ]
  },
  {
   "cell_type": "code",
   "execution_count": 24,
   "metadata": {},
   "outputs": [
    {
     "name": "stdout",
     "output_type": "stream",
     "text": [
      "Xtr: torch.Size([182516, 3]), Ytr: torch.Size([182516])\n",
      "Xval: torch.Size([22815, 3]), Yval: torch.Size([22815])\n",
      "Xte: torch.Size([22815, 3]), Yte: torch.Size([22815])\n"
     ]
    }
   ],
   "source": [
    "# a simple MLP with a 3 character contexte length\n",
    "# 200 hidden neuronsm, 12097 parameters\n",
    "block_size = 3\n",
    "datasets = build_dataset(words, context_len=block_size)\n",
    "Xtr, Ytr = datasets[\"train\"]"
   ]
  },
  {
   "cell_type": "code",
   "execution_count": 25,
   "metadata": {},
   "outputs": [
    {
     "name": "stdout",
     "output_type": "stream",
     "text": [
      "12097\n",
      "      0/ 200000: 3.2879\n",
      "  10000/ 200000: 2.6802\n",
      "  20000/ 200000: 2.0490\n",
      "  30000/ 200000: 2.0863\n",
      "  40000/ 200000: 1.8905\n",
      "  50000/ 200000: 2.3317\n",
      "  60000/ 200000: 2.5793\n",
      "  70000/ 200000: 2.2038\n",
      "  80000/ 200000: 2.2302\n",
      "  90000/ 200000: 2.2246\n",
      " 100000/ 200000: 2.0781\n",
      " 110000/ 200000: 1.6106\n",
      " 120000/ 200000: 1.5772\n",
      " 130000/ 200000: 2.1900\n",
      " 140000/ 200000: 2.4162\n",
      " 150000/ 200000: 2.1443\n",
      " 160000/ 200000: 2.4380\n",
      " 170000/ 200000: 2.0278\n",
      " 180000/ 200000: 2.1444\n",
      " 190000/ 200000: 1.8437\n"
     ]
    },
    {
     "data": {
      "text/plain": [
       "[<matplotlib.lines.Line2D at 0x1e4b8bdc3d0>]"
      ]
     },
     "execution_count": 25,
     "metadata": {},
     "output_type": "execute_result"
    },
    {
     "data": {
      "image/png": "[encoded data removed]",
      "text/plain": [
       "<Figure size 640x480 with 1 Axes>"
      ]
     },
     "metadata": {},
     "output_type": "display_data"
    }
   ],
   "source": [
    "model = initialize_model(n_layers = 2, bn=True, hidden_gain=1, block_size=block_size)\n",
    "lossi = train(model, Xtr, Ytr)\n",
    "plt.plot(torch.tensor(lossi).view(-1,1000).mean(1))"
   ]
  },
  {
   "cell_type": "code",
   "execution_count": 26,
   "metadata": {},
   "outputs": [
    {
     "name": "stdout",
     "output_type": "stream",
     "text": [
      "train 2.0612142086029053\n",
      "val 2.1071231365203857\n",
      "test 2.108309268951416\n"
     ]
    }
   ],
   "source": [
    "split_loss(model,'train', datasets)\n",
    "split_loss(model,'val', datasets)\n",
    "split_loss(model,'test', datasets)"
   ]
  },
  {
   "cell_type": "code",
   "execution_count": 27,
   "metadata": {},
   "outputs": [
    {
     "name": "stdout",
     "output_type": "stream",
     "text": [
      "Xtr: torch.Size([182516, 8]), Ytr: torch.Size([182516])\n",
      "Xval: torch.Size([22815, 8]), Yval: torch.Size([22815])\n",
      "Xte: torch.Size([22815, 8]), Yte: torch.Size([22815])\n"
     ]
    }
   ],
   "source": [
    "# a simple MLP with an 8 character context length\n",
    "block_size = 8\n",
    "datasets = build_dataset(words, context_len=block_size)\n",
    "Xtr, Ytr = datasets[\"train\"]"
   ]
  },
  {
   "cell_type": "code",
   "execution_count": 28,
   "metadata": {},
   "outputs": [
    {
     "name": "stdout",
     "output_type": "stream",
     "text": [
      "22097\n",
      "      0/ 200000: 3.3061\n",
      "  10000/ 200000: 1.9200\n",
      "  20000/ 200000: 2.3387\n",
      "  30000/ 200000: 2.0185\n",
      "  40000/ 200000: 1.8510\n",
      "  50000/ 200000: 1.8761\n",
      "  60000/ 200000: 1.7908\n",
      "  70000/ 200000: 2.0434\n",
      "  80000/ 200000: 2.0765\n",
      "  90000/ 200000: 2.0175\n",
      " 100000/ 200000: 1.8554\n",
      " 110000/ 200000: 2.1749\n",
      " 120000/ 200000: 1.8781\n",
      " 130000/ 200000: 1.9169\n",
      " 140000/ 200000: 2.0560\n",
      " 150000/ 200000: 2.2424\n",
      " 160000/ 200000: 2.4784\n",
      " 170000/ 200000: 2.4333\n",
      " 180000/ 200000: 2.4187\n",
      " 190000/ 200000: 2.0373\n"
     ]
    },
    {
     "data": {
      "text/plain": [
       "[<matplotlib.lines.Line2D at 0x1e4b90bb850>]"
      ]
     },
     "execution_count": 28,
     "metadata": {},
     "output_type": "execute_result"
    },
    {
     "data": {
      "image/png": "[encoded data removed]",
      "text/plain": [
       "<Figure size 640x480 with 1 Axes>"
      ]
     },
     "metadata": {},
     "output_type": "display_data"
    }
   ],
   "source": [
    "model = initialize_model(n_layers = 2, bn=True, hidden_gain=1, block_size=block_size)\n",
    "lossi = train(model, Xtr, Ytr)\n",
    "plt.plot(torch.tensor(lossi).view(-1,1000).mean(1))"
   ]
  },
  {
   "cell_type": "code",
   "execution_count": 29,
   "metadata": {},
   "outputs": [
    {
     "name": "stdout",
     "output_type": "stream",
     "text": [
      "train 1.9170314073562622\n",
      "val 2.0273754596710205\n",
      "test 2.0177745819091797\n"
     ]
    }
   ],
   "source": [
    "split_loss(model,'train', datasets)\n",
    "split_loss(model,'val', datasets)\n",
    "split_loss(model,'test', datasets)"
   ]
  },
  {
   "cell_type": "markdown",
   "metadata": {},
   "source": [
    "Context window of 8 characters is a significant improvement over the context length of 3."
   ]
  },
  {
   "cell_type": "markdown",
   "metadata": {},
   "source": [
    "# The issue with simple MLP\n",
    "The problem with the above architecture is is that there is no simple way of making the network bigger in a productive way. We can make the net deepr, but we will still be crushing all the characters into a single layer directly in the beginning. Squashing all the information too fast is not a good idea. WaveNet paper offers a solution:\n",
    "\n",
    "![WaveNet Architecture](./images/wavenet.png)\n",
    "\n",
    "In the WaveNet paper the predictions for the next character in the sequence is the function of two previous chars fed. It is not input into a single layer. Two characters are fused at a tinme, in a hierarchial manner, so the information from the context is fed in slowly, allowing for a more intelligent way of combining the input information."
   ]
  },
  {
   "cell_type": "markdown",
   "metadata": {},
   "source": [
    "# Getting the dimensions ready for WaveNet"
   ]
  },
  {
   "cell_type": "code",
   "execution_count": 30,
   "metadata": {},
   "outputs": [
    {
     "name": "stdout",
     "output_type": "stream",
     "text": [
      "torch.Size([4, 8])\n"
     ]
    },
    {
     "data": {
      "text/plain": [
       "(tensor([[ 0,  0,  0,  5,  4, 13, 21, 14],\n",
       "         [ 0,  0,  0,  0, 11,  8,  1, 12],\n",
       "         [ 0,  0,  0, 11,  1, 13, 15, 18],\n",
       "         [ 0,  0,  0,  0,  0,  0,  0,  0]]),\n",
       " tensor([[ 4.0621,  4.0649, -2.1389, -0.4557,  3.6757,  2.2431, -3.6923,  3.2248,\n",
       "          -2.7943,  3.7746, -1.1886, -0.6860, -0.1938, -1.7939,  1.0078,  2.4846,\n",
       "          -4.5507, -3.3043, -1.1912,  0.2015,  1.9191,  0.1051, -2.6113, -2.6806,\n",
       "          -2.3192,  2.4870, -0.3209],\n",
       "         [ 1.2044,  3.7815, -0.3622,  0.2209,  2.0199,  4.8632, -1.3770, -4.3899,\n",
       "          -2.4460,  5.2579, -2.1038,  0.3013,  2.4444, -0.4688, -1.1187,  2.0084,\n",
       "          -3.3149, -3.2493, -0.8195,  0.5754, -0.5279,  1.9100, -0.2636, -1.2317,\n",
       "          -5.0822,  3.3484, -1.6999],\n",
       "         [ 3.6463,  4.7351, -0.4382, -0.7904,  1.3753,  3.8302, -2.4154,  1.1497,\n",
       "          -1.0256,  4.9031, -0.8527, -0.4368,  0.7799, -2.1781,  0.0970,  1.5006,\n",
       "          -4.7007, -3.5845,  1.6559, -0.4007,  1.2862,  0.0590, -2.3478, -4.2680,\n",
       "          -3.4601,  3.6993, -2.2728],\n",
       "         [-4.7336,  1.8037,  0.6025,  0.7758,  0.8193,  0.8399, -0.5415, -0.0434,\n",
       "          -0.0299, -0.1192,  1.4395,  1.7723,  0.8559,  1.2911,  0.5961, -0.5160,\n",
       "          -0.2966, -2.1499,  0.8965,  1.2091,  0.5830, -2.0755, -0.5866, -0.9196,\n",
       "          -1.6775, -0.3271,  0.4085]], grad_fn=<AddBackward0>))"
      ]
     },
     "execution_count": 30,
     "metadata": {},
     "output_type": "execute_result"
    }
   ],
   "source": [
    "ix = torch.randint(0, Xtr.shape[0], (4,))\n",
    "Xb, Yb = Xtr[ix], Ytr[ix]\n",
    "logits = model(Xb)\n",
    "print(Xb.shape)\n",
    "Xb, logits"
   ]
  },
  {
   "cell_type": "markdown",
   "metadata": {},
   "source": [
    "Currently the outputs of the embedding layer and the flatten layer are of shape:"
   ]
  },
  {
   "cell_type": "code",
   "execution_count": 34,
   "metadata": {},
   "outputs": [
    {
     "data": {
      "text/plain": [
       "(torch.Size([4, 8, 10]), torch.Size([4, 80]))"
      ]
     },
     "execution_count": 34,
     "metadata": {},
     "output_type": "execute_result"
    }
   ],
   "source": [
    "model.layers[0].out.shape, model.layers[1].out.shape"
   ]
  },
  {
   "cell_type": "markdown",
   "metadata": {},
   "source": [
    "Esentially we want to have two batch dimensions: the first one for the number of examples in the  batch, and the second one for the fused charcters at each layer (the first one would be 32, the second one would be 2, since two characters would be fused together one at a time). So now the single batch row is just a sequence of consecutive characters:\n",
    "\n",
    "1,2,3,4,5,6,7,8\n",
    "\n",
    "But we want to introudce an additional batch component and group the pairs of characters:\n",
    "\n",
    "(1,2) (3,4) (5,6) (7,8)\n",
    "\n",
    "We want to process each of the group together. So instead of doing (4x80) @ (80, n_hid), we want to do (4, 4, 20) @ (20, n_hid), where the second 4 is esentially another batch dimension.\n",
    "\n",
    "For that we need to introduce another layer type:"
   ]
  },
  {
   "cell_type": "code",
   "execution_count": 62,
   "metadata": {},
   "outputs": [],
   "source": [
    "class FlattenConsecutive:\n",
    "    def __init__(self, n):\n",
    "        self.n = n\n",
    "\n",
    "    def __call__(self, x):\n",
    "        B, T, C = x.shape\n",
    "        self.out = x.view(B, T//self.n, C*self.n)\n",
    "        if self.out.shape[1] == 1:\n",
    "            self.out = self.out.squeeze(1)\n",
    "        return self.out\n",
    "\n",
    "    def parameters(self):\n",
    "        return []"
   ]
  },
  {
   "cell_type": "code",
   "execution_count": 63,
   "metadata": {},
   "outputs": [
    {
     "name": "stdout",
     "output_type": "stream",
     "text": [
      "22097\n"
     ]
    }
   ],
   "source": [
    "block_size = 8\n",
    "n_emb = 10\n",
    "n_hidden = 200\n",
    "\n",
    "model = Sequential([\n",
    "    Embedding(vocab_size, n_emb),   # batch size, sequence length, embedding dimension\n",
    "    FlattenConsecutive(block_size),          # batch size, sequence length // 8, embedding dimension * 8\n",
    "    Linear(n_emb*block_size, n_hidden, bias=False),      # batch size, sequence length // 8, n_hidden\n",
    "    BatchNorm1d(n_hidden),\n",
    "    Tanh(),\n",
    "    Linear(n_hidden, vocab_size)    # batch size, sequence length // 2, vocab size\n",
    "])\n",
    "\n",
    "with torch.no_grad():\n",
    "    model.layers[-1].weight *= 0.1\n",
    "\n",
    "parameters = model.parameters()\n",
    "print(sum(p.nelement() for p in parameters))\n",
    "\n",
    "for p in parameters:\n",
    "    p.requires_grad = True"
   ]
  },
  {
   "cell_type": "code",
   "execution_count": 68,
   "metadata": {},
   "outputs": [],
   "source": [
    "ix = torch.randint(0, Xtr.shape[0], (4,))\n",
    "Xb, Yb = Xtr[ix], Ytr[ix]\n",
    "logits = model(Xb)"
   ]
  },
  {
   "cell_type": "code",
   "execution_count": 69,
   "metadata": {},
   "outputs": [
    {
     "name": "stdout",
     "output_type": "stream",
     "text": [
      "Embedding : (4, 8, 10)\n",
      "FlattenConsecutive : (4, 4, 20)\n",
      "Linear : (4, 4, 200)\n",
      "BatchNorm1d : (4, 4, 200)\n",
      "Tanh : (4, 4, 200)\n",
      "Linear : (4, 4, 27)\n"
     ]
    }
   ],
   "source": [
    "for layer in model.layers:\n",
    "    print(layer.__class__.__name__, \":\", tuple(layer.out.shape))\n"
   ]
  },
  {
   "cell_type": "code",
   "execution_count": 84,
   "metadata": {},
   "outputs": [
    {
     "name": "stdout",
     "output_type": "stream",
     "text": [
      "22397\n"
     ]
    }
   ],
   "source": [
    "block_size = 8\n",
    "n_fused = 2\n",
    "n_emb = 10\n",
    "n_hidden = 68\n",
    "\n",
    "model = Sequential([\n",
    "    Embedding(vocab_size, n_emb),\n",
    "    FlattenConsecutive(n_fused), Linear(n_emb*n_fused, n_hidden, bias=False), BatchNorm1d(n_hidden), Tanh(),\n",
    "    FlattenConsecutive(n_fused), Linear(n_hidden*n_fused, n_hidden, bias=False), BatchNorm1d(n_hidden), Tanh(), \n",
    "    FlattenConsecutive(n_fused), Linear(n_hidden*n_fused, n_hidden, bias=False), BatchNorm1d(n_hidden), Tanh(), \n",
    "    Linear(n_hidden, vocab_size)\n",
    "])\n",
    "\n",
    "with torch.no_grad():\n",
    "    model.layers[-1].weight *= 0.1\n",
    "\n",
    "parameters = model.parameters()\n",
    "print(sum(p.nelement() for p in parameters))\n",
    "\n",
    "for p in parameters:\n",
    "    p.requires_grad = True"
   ]
  },
  {
   "cell_type": "code",
   "execution_count": 87,
   "metadata": {},
   "outputs": [
    {
     "name": "stdout",
     "output_type": "stream",
     "text": [
      "Xtr: torch.Size([182516, 8]), Ytr: torch.Size([182516])\n",
      "Xval: torch.Size([22815, 8]), Yval: torch.Size([22815])\n",
      "Xte: torch.Size([22815, 8]), Yte: torch.Size([22815])\n"
     ]
    }
   ],
   "source": [
    "# a simple MLP with an 8 character context length\n",
    "block_size = 8\n",
    "datasets = build_dataset(words, context_len=block_size)\n",
    "Xtr, Ytr = datasets[\"train\"]"
   ]
  },
  {
   "cell_type": "code",
   "execution_count": 88,
   "metadata": {},
   "outputs": [
    {
     "name": "stdout",
     "output_type": "stream",
     "text": [
      "      0/ 200000: 3.3093\n",
      "  10000/ 200000: 1.8534\n",
      "  20000/ 200000: 2.0280\n",
      "  30000/ 200000: 2.5692\n",
      "  40000/ 200000: 1.9857\n",
      "  50000/ 200000: 2.3154\n",
      "  60000/ 200000: 1.9239\n",
      "  70000/ 200000: 1.6353\n",
      "  80000/ 200000: 1.7010\n",
      "  90000/ 200000: 2.8158\n",
      " 100000/ 200000: 1.6710\n",
      " 110000/ 200000: 2.0660\n",
      " 120000/ 200000: 2.2694\n",
      " 130000/ 200000: 2.0435\n",
      " 140000/ 200000: 2.3545\n",
      " 150000/ 200000: 2.0080\n",
      " 160000/ 200000: 2.0970\n",
      " 170000/ 200000: 1.8539\n",
      " 180000/ 200000: 1.6989\n",
      " 190000/ 200000: 2.3002\n"
     ]
    },
    {
     "data": {
      "text/plain": [
       "[<matplotlib.lines.Line2D at 0x1e4baf3d990>]"
      ]
     },
     "execution_count": 88,
     "metadata": {},
     "output_type": "execute_result"
    },
    {
     "data": {
      "image/png": "[encoded data removed]",
      "text/plain": [
       "<Figure size 640x480 with 1 Axes>"
      ]
     },
     "metadata": {},
     "output_type": "display_data"
    }
   ],
   "source": [
    "lossi = train(model, Xtr, Ytr)\n",
    "plt.plot(torch.tensor(lossi).view(-1,1000).mean(1))"
   ]
  },
  {
   "cell_type": "code",
   "execution_count": 89,
   "metadata": {},
   "outputs": [
    {
     "name": "stdout",
     "output_type": "stream",
     "text": [
      "train 1.9407069683074951\n",
      "val 2.0272905826568604\n",
      "test 2.0234243869781494\n"
     ]
    }
   ],
   "source": [
    "split_loss(model,'train', datasets)\n",
    "split_loss(model,'val', datasets)\n",
    "split_loss(model,'test', datasets)"
   ]
  },
  {
   "cell_type": "code",
   "execution_count": null,
   "metadata": {},
   "outputs": [],
   "source": [
    "for layer in model.layers:\n",
    "    print(layer.__class__.__name__, \":\", tuple(layer.out.shape))"
   ]
  },
  {
   "cell_type": "markdown",
   "metadata": {},
   "source": [
    "# Fixing the Batch Normalization Bug"
   ]
  },
  {
   "cell_type": "markdown",
   "metadata": {},
   "source": [
    "Current BN  implementation looks like  this:\n",
    "```\n",
    "class BatchNorm1d:\n",
    "    def __init__(self, dim, eps=1e-5, momentum=0.1):\n",
    "        self.eps = eps\n",
    "        self.momentum = momentum\n",
    "        self.training = True\n",
    "        # parameters for batch norm\n",
    "        self.gamma = torch.ones(dim)\n",
    "        self.beta = torch.zeros(dim)\n",
    "        # buffers trained with a running momentum update\n",
    "        self.running_mean = torch.zeros(dim)\n",
    "        self.running_var = torch.ones(dim)\n",
    "\n",
    "    def __call__(self, x):\n",
    "        if self.training:\n",
    "            xmean = x.mean(dim=0, keepdim=True)\n",
    "            xvar = x.var(dim=0, keepdim=True)\n",
    "        else:\n",
    "            xmean = self.running_mean\n",
    "            xvar = self.running_var\n",
    "        \n",
    "        self.out = (x - xmean) / (xvar + self.eps).sqrt()\n",
    "        self.out = self.out * self.gamma + self.beta\n",
    "\n",
    "        if self.training:\n",
    "            with torch.no_grad():\n",
    "                self.running_mean = self.running_mean * (1 - self.momentum) + xmean * self.momentum\n",
    "                self.running_var = self.running_var * (1 - self.momentum) + xvar * self.momentum\n",
    "        \n",
    "        return self.out\n",
    "\n",
    "    def parameters(self):\n",
    "        return [self.gamma, self.beta]\n",
    "```\n",
    "\n",
    "Because we are now operating on tensor with two batch dimensions, calculating the mean and variance along the 0th dimension means that self.mean and self.variance will not be vectors, but matrices. If the input X is (B, T, C), then the mean and variance will be of shape T,C, because only the first dimenision will be reduced. T is the dimension along which we group the numbers to be fused together, and these groups are processed in parallel using the same weights. So we want the mean and variance to be calculated for all the groups together, not separately. Esentially we want to reduce both the first and the second dimension, so that all batch dimension contribute to and share the same statistics. As far as the BN is considred, we do not want to average over the B dimensions, we also want to average over the T dimension. This, however, only applies to the 3 dimensional input case. For a two dimensional input the old reasoning applies."
   ]
  },
  {
   "cell_type": "code",
   "execution_count": 90,
   "metadata": {},
   "outputs": [],
   "source": [
    "class BatchNorm1d:\n",
    "    def __init__(self, dim, eps=1e-5, momentum=0.1):\n",
    "        self.eps = eps\n",
    "        self.momentum = momentum\n",
    "        self.training = True\n",
    "        # parameters for batch norm\n",
    "        self.gamma = torch.ones(dim)\n",
    "        self.beta = torch.zeros(dim)\n",
    "        # buffers trained with a running momentum update\n",
    "        self.running_mean = torch.zeros(dim)\n",
    "        self.running_var = torch.ones(dim)\n",
    "\n",
    "    def __call__(self, x):\n",
    "        if self.training:\n",
    "            if x.ndim == 2:\n",
    "                dim = 0\n",
    "            elif x.ndim == 3:\n",
    "                dim = (0,1)\n",
    "                \n",
    "            xmean = x.mean(dim, keepdim=True)\n",
    "            xvar = x.var(dim, keepdim=True)\n",
    "        else:\n",
    "            xmean = self.running_mean\n",
    "            xvar = self.running_var\n",
    "        \n",
    "        self.out = (x - xmean) / (xvar + self.eps).sqrt()\n",
    "        self.out = self.out * self.gamma + self.beta\n",
    "\n",
    "        if self.training:\n",
    "            with torch.no_grad():\n",
    "                self.running_mean = self.running_mean * (1 - self.momentum) + xmean * self.momentum\n",
    "                self.running_var = self.running_var * (1 - self.momentum) + xvar * self.momentum\n",
    "        \n",
    "        return self.out\n",
    "\n",
    "    def parameters(self):\n",
    "        return [self.gamma, self.beta]"
   ]
  },
  {
   "cell_type": "code",
   "execution_count": 91,
   "metadata": {},
   "outputs": [
    {
     "name": "stdout",
     "output_type": "stream",
     "text": [
      "22397\n"
     ]
    }
   ],
   "source": [
    "block_size = 8\n",
    "n_fused = 2\n",
    "n_emb = 10\n",
    "n_hidden = 68\n",
    "\n",
    "model = Sequential([\n",
    "    Embedding(vocab_size, n_emb),\n",
    "    FlattenConsecutive(n_fused), Linear(n_emb*n_fused, n_hidden, bias=False), BatchNorm1d(n_hidden), Tanh(),\n",
    "    FlattenConsecutive(n_fused), Linear(n_hidden*n_fused, n_hidden, bias=False), BatchNorm1d(n_hidden), Tanh(), \n",
    "    FlattenConsecutive(n_fused), Linear(n_hidden*n_fused, n_hidden, bias=False), BatchNorm1d(n_hidden), Tanh(), \n",
    "    Linear(n_hidden, vocab_size)\n",
    "])\n",
    "\n",
    "with torch.no_grad():\n",
    "    model.layers[-1].weight *= 0.1\n",
    "\n",
    "parameters = model.parameters()\n",
    "print(sum(p.nelement() for p in parameters))\n",
    "\n",
    "for p in parameters:\n",
    "    p.requires_grad = True"
   ]
  },
  {
   "cell_type": "code",
   "execution_count": 92,
   "metadata": {},
   "outputs": [
    {
     "name": "stdout",
     "output_type": "stream",
     "text": [
      "Xtr: torch.Size([182516, 8]), Ytr: torch.Size([182516])\n",
      "Xval: torch.Size([22815, 8]), Yval: torch.Size([22815])\n",
      "Xte: torch.Size([22815, 8]), Yte: torch.Size([22815])\n"
     ]
    }
   ],
   "source": [
    "# a simple MLP with an 8 character context length\n",
    "block_size = 8\n",
    "datasets = build_dataset(words, context_len=block_size)\n",
    "Xtr, Ytr = datasets[\"train\"]"
   ]
  },
  {
   "cell_type": "code",
   "execution_count": 93,
   "metadata": {},
   "outputs": [
    {
     "name": "stdout",
     "output_type": "stream",
     "text": [
      "      0/ 200000: 3.3074\n",
      "  10000/ 200000: 2.2631\n",
      "  20000/ 200000: 2.3321\n",
      "  30000/ 200000: 2.8051\n"
     ]
    }
   ],
   "source": [
    "lossi = train(model, Xtr, Ytr)\n",
    "plt.plot(torch.tensor(lossi).view(-1,1000).mean(1))"
   ]
  }
 ],
 "metadata": {
  "kernelspec": {
   "display_name": ".venv",
   "language": "python",
   "name": "python3"
  },
  "language_info": {
   "codemirror_mode": {
    "name": "ipython",
    "version": 3
   },
   "file_extension": ".py",
   "mimetype": "text/x-python",
   "name": "python",
   "nbconvert_exporter": "python",
   "pygments_lexer": "ipython3",
   "version": "3.11.9"
  }
 },
 "nbformat": 4,
 "nbformat_minor": 2
}
